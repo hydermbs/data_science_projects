{
  "nbformat": 4,
  "nbformat_minor": 0,
  "metadata": {
    "colab": {
      "name": "EDA_Pakistan_Job_Market.ipynb",
      "provenance": [],
      "authorship_tag": "ABX9TyMC1mwbpGirtNiZcEXqVWff",
      "include_colab_link": true
    },
    "kernelspec": {
      "name": "python3",
      "display_name": "Python 3"
    },
    "language_info": {
      "name": "python"
    }
  },
  "cells": [
    {
      "cell_type": "markdown",
      "metadata": {
        "id": "view-in-github",
        "colab_type": "text"
      },
      "source": [
        "<a href=\"https://colab.research.google.com/github/hydermbs/data_science_projects/blob/main/EDA_Pakistan_Job_Market.ipynb\" target=\"_parent\"><img src=\"https://colab.research.google.com/assets/colab-badge.svg\" alt=\"Open In Colab\"/></a>"
      ]
    },
    {
      "cell_type": "markdown",
      "source": [
        "#**Importing Essential Libraries and Dataset to Google Colab**"
      ],
      "metadata": {
        "id": "jhET6XKwOTJz"
      }
    },
    {
      "cell_type": "code",
      "execution_count": 3,
      "metadata": {
        "colab": {
          "resources": {
            "http://localhost:8080/nbextensions/google.colab/files.js": {
              "data": "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",
              "ok": true,
              "headers": [
                [
                  "content-type",
                  "application/javascript"
                ]
              ],
              "status": 200,
              "status_text": ""
            }
          },
          "base_uri": "https://localhost:8080/",
          "height": 73
        },
        "id": "H8XxZy7NNpwk",
        "outputId": "0a874ced-7cfa-4ae7-c35e-e6f318b4fa50"
      },
      "outputs": [
        {
          "output_type": "display_data",
          "data": {
            "text/plain": [
              "<IPython.core.display.HTML object>"
            ],
            "text/html": [
              "\n",
              "     <input type=\"file\" id=\"files-409b9dc6-9231-4d24-916b-019e296ea603\" name=\"files[]\" multiple disabled\n",
              "        style=\"border:none\" />\n",
              "     <output id=\"result-409b9dc6-9231-4d24-916b-019e296ea603\">\n",
              "      Upload widget is only available when the cell has been executed in the\n",
              "      current browser session. Please rerun this cell to enable.\n",
              "      </output>\n",
              "      <script src=\"/nbextensions/google.colab/files.js\"></script> "
            ]
          },
          "metadata": {}
        },
        {
          "output_type": "stream",
          "name": "stdout",
          "text": [
            "Saving Pakistan Available Job Dec 19 - Mar-21.csv to Pakistan Available Job Dec 19 - Mar-21.csv\n"
          ]
        }
      ],
      "source": [
        "import pandas as pd\n",
        "import numpy as np\n",
        "import matplotlib.pyplot as plt\n",
        "import seaborn as sns\n",
        "from google.colab import files\n",
        "uploaded = files.upload()"
      ]
    },
    {
      "cell_type": "markdown",
      "source": [
        "#**Assign Dataset to Variable and read CSV**"
      ],
      "metadata": {
        "id": "vaDOcDncPjwL"
      }
    },
    {
      "cell_type": "code",
      "source": [
        "jobs = pd.read_csv('Pakistan Available Job Dec 19 - Mar-21.csv')"
      ],
      "metadata": {
        "id": "atoRv9SoPt_X"
      },
      "execution_count": 27,
      "outputs": []
    },
    {
      "cell_type": "markdown",
      "source": [
        "#Check First 10 Rows of Dataset"
      ],
      "metadata": {
        "id": "gDs62UReP8WY"
      }
    },
    {
      "cell_type": "code",
      "source": [
        "jobs.head(10)"
      ],
      "metadata": {
        "colab": {
          "base_uri": "https://localhost:8080/",
          "height": 598
        },
        "id": "qXw9Eu2PQCQ_",
        "outputId": "eb341e04-4a9b-43d0-ca42-8b1465a8345a"
      },
      "execution_count": 28,
      "outputs": [
        {
          "output_type": "execute_result",
          "data": {
            "text/plain": [
              "                                            Job Name        label  \\\n",
              "0  Full Time New Job Positions .Net, .Netcore, Fl...  Premium Job   \n",
              "1    Full Time Senior Web Developer Jobs in Pakistan  Premium Job   \n",
              "2        Full Time Russian Speakers Jobs in Pakistan  Premium Job   \n",
              "3  Full Time Customer Support Specialist - Intern...  Premium Job   \n",
              "4  Full Time English Speaker - International Busi...  Premium Job   \n",
              "5  Full Time Socks Operation Manager And Socks In...  Premium Job   \n",
              "6  Full Time Call Center - Lead Agent Jobs in Pak...  Premium Job   \n",
              "7  Full Time Manager Accounts & Taxation (CA) Job...  Premium Job   \n",
              "8  Online Full Time Remote Researcher, Content Cr...  Premium Job   \n",
              "9  Full Time Angularjs And .Net Core Developer Jo...  Premium Job   \n",
              "\n",
              "                               Company Name        Job Type  \\\n",
              "0                 Nayel Solutions, Pakistan  Full Time Jobs   \n",
              "1   Eurosoft Tech Private Limited, Pakistan  Full Time Jobs   \n",
              "2                       ICM JAPAN, Pakistan  Full Time Jobs   \n",
              "3                            ibex, Pakistan  Full Time Jobs   \n",
              "4                       ICM JAPAN, Pakistan   Full Time Job   \n",
              "5            Uni Hosiery Co. Inc., Pakistan   Full Time Job   \n",
              "6         Pakistan Sweet Home AFP, Pakistan  Full Time Jobs   \n",
              "7  Mercantile Enterprises Pvt Ltd, Pakistan  Full Time Jobs   \n",
              "8                    Confidential, Pakistan   Full Time Job   \n",
              "9   Eurosoft Tech Private Limited, Pakistan  Full Time Jobs   \n",
              "\n",
              "       Experience Required             Department  \\\n",
              "0         2 Years Job Exp.                IT Jobs   \n",
              "1         2 Years Job Exp.                IT Jobs   \n",
              "2                 < 1 Year  Customer Service Jobs   \n",
              "3  Job for Fresh Graduates  Customer Service Jobs   \n",
              "4                 < 1 Year   Customer Service Job   \n",
              "5         5 Years Job Exp.         Production Job   \n",
              "6         3 Years Job Exp.             Sales Jobs   \n",
              "7         4 Years Job Exp.        Publishing Jobs   \n",
              "8                 < 1 Year              Admin Job   \n",
              "9         7 Years Job Exp.                IT Jobs   \n",
              "\n",
              "                                                  JD        City Date Posted  \n",
              "0  New Job Positions .net, .netcore, flutter, Tea...   Islamabad   12-Mar-21  \n",
              "1  We are looking for an experienced Web Develope...     Karachi   12-Mar-21  \n",
              "2  International clients dealing exposure (B2B).S...     Karachi   12-Mar-21  \n",
              "3  Responsible for acting as a liaison between ou...   Islamabad    9-Mar-21  \n",
              "4  International clients dealing exposure (B2B) a...     Karachi    5-Mar-21  \n",
              "5  NOTE: Apply By Sending Your CV/Resume to: hrdp...  Faisalabad    5-Mar-21  \n",
              "6  Each Lead Agent is responsible for generating ...   Islamabad   22-Feb-21  \n",
              "7  We at Mercantile Enterprises (Pvt) Ltd is look...      Lahore   19-Feb-21  \n",
              "8  This job is a remote working opportunity. We a...  Faisalabad   17-Feb-21  \n",
              "9  Command on following skillsAngularJS\\nNodeJs\\n...     Karachi   16-Feb-21  "
            ],
            "text/html": [
              "\n",
              "  <div id=\"df-2eccccd3-1fd1-47d2-b9ae-819efeea912f\">\n",
              "    <div class=\"colab-df-container\">\n",
              "      <div>\n",
              "<style scoped>\n",
              "    .dataframe tbody tr th:only-of-type {\n",
              "        vertical-align: middle;\n",
              "    }\n",
              "\n",
              "    .dataframe tbody tr th {\n",
              "        vertical-align: top;\n",
              "    }\n",
              "\n",
              "    .dataframe thead th {\n",
              "        text-align: right;\n",
              "    }\n",
              "</style>\n",
              "<table border=\"1\" class=\"dataframe\">\n",
              "  <thead>\n",
              "    <tr style=\"text-align: right;\">\n",
              "      <th></th>\n",
              "      <th>Job Name</th>\n",
              "      <th>label</th>\n",
              "      <th>Company Name</th>\n",
              "      <th>Job Type</th>\n",
              "      <th>Experience Required</th>\n",
              "      <th>Department</th>\n",
              "      <th>JD</th>\n",
              "      <th>City</th>\n",
              "      <th>Date Posted</th>\n",
              "    </tr>\n",
              "  </thead>\n",
              "  <tbody>\n",
              "    <tr>\n",
              "      <th>0</th>\n",
              "      <td>Full Time New Job Positions .Net, .Netcore, Fl...</td>\n",
              "      <td>Premium Job</td>\n",
              "      <td>Nayel Solutions, Pakistan</td>\n",
              "      <td>Full Time Jobs</td>\n",
              "      <td>2 Years Job Exp.</td>\n",
              "      <td>IT Jobs</td>\n",
              "      <td>New Job Positions .net, .netcore, flutter, Tea...</td>\n",
              "      <td>Islamabad</td>\n",
              "      <td>12-Mar-21</td>\n",
              "    </tr>\n",
              "    <tr>\n",
              "      <th>1</th>\n",
              "      <td>Full Time Senior Web Developer Jobs in Pakistan</td>\n",
              "      <td>Premium Job</td>\n",
              "      <td>Eurosoft Tech Private Limited, Pakistan</td>\n",
              "      <td>Full Time Jobs</td>\n",
              "      <td>2 Years Job Exp.</td>\n",
              "      <td>IT Jobs</td>\n",
              "      <td>We are looking for an experienced Web Develope...</td>\n",
              "      <td>Karachi</td>\n",
              "      <td>12-Mar-21</td>\n",
              "    </tr>\n",
              "    <tr>\n",
              "      <th>2</th>\n",
              "      <td>Full Time Russian Speakers Jobs in Pakistan</td>\n",
              "      <td>Premium Job</td>\n",
              "      <td>ICM JAPAN, Pakistan</td>\n",
              "      <td>Full Time Jobs</td>\n",
              "      <td>&lt; 1 Year</td>\n",
              "      <td>Customer Service Jobs</td>\n",
              "      <td>International clients dealing exposure (B2B).S...</td>\n",
              "      <td>Karachi</td>\n",
              "      <td>12-Mar-21</td>\n",
              "    </tr>\n",
              "    <tr>\n",
              "      <th>3</th>\n",
              "      <td>Full Time Customer Support Specialist - Intern...</td>\n",
              "      <td>Premium Job</td>\n",
              "      <td>ibex, Pakistan</td>\n",
              "      <td>Full Time Jobs</td>\n",
              "      <td>Job for Fresh Graduates</td>\n",
              "      <td>Customer Service Jobs</td>\n",
              "      <td>Responsible for acting as a liaison between ou...</td>\n",
              "      <td>Islamabad</td>\n",
              "      <td>9-Mar-21</td>\n",
              "    </tr>\n",
              "    <tr>\n",
              "      <th>4</th>\n",
              "      <td>Full Time English Speaker - International Busi...</td>\n",
              "      <td>Premium Job</td>\n",
              "      <td>ICM JAPAN, Pakistan</td>\n",
              "      <td>Full Time Job</td>\n",
              "      <td>&lt; 1 Year</td>\n",
              "      <td>Customer Service Job</td>\n",
              "      <td>International clients dealing exposure (B2B) a...</td>\n",
              "      <td>Karachi</td>\n",
              "      <td>5-Mar-21</td>\n",
              "    </tr>\n",
              "    <tr>\n",
              "      <th>5</th>\n",
              "      <td>Full Time Socks Operation Manager And Socks In...</td>\n",
              "      <td>Premium Job</td>\n",
              "      <td>Uni Hosiery Co. Inc., Pakistan</td>\n",
              "      <td>Full Time Job</td>\n",
              "      <td>5 Years Job Exp.</td>\n",
              "      <td>Production Job</td>\n",
              "      <td>NOTE: Apply By Sending Your CV/Resume to: hrdp...</td>\n",
              "      <td>Faisalabad</td>\n",
              "      <td>5-Mar-21</td>\n",
              "    </tr>\n",
              "    <tr>\n",
              "      <th>6</th>\n",
              "      <td>Full Time Call Center - Lead Agent Jobs in Pak...</td>\n",
              "      <td>Premium Job</td>\n",
              "      <td>Pakistan Sweet Home AFP, Pakistan</td>\n",
              "      <td>Full Time Jobs</td>\n",
              "      <td>3 Years Job Exp.</td>\n",
              "      <td>Sales Jobs</td>\n",
              "      <td>Each Lead Agent is responsible for generating ...</td>\n",
              "      <td>Islamabad</td>\n",
              "      <td>22-Feb-21</td>\n",
              "    </tr>\n",
              "    <tr>\n",
              "      <th>7</th>\n",
              "      <td>Full Time Manager Accounts &amp; Taxation (CA) Job...</td>\n",
              "      <td>Premium Job</td>\n",
              "      <td>Mercantile Enterprises Pvt Ltd, Pakistan</td>\n",
              "      <td>Full Time Jobs</td>\n",
              "      <td>4 Years Job Exp.</td>\n",
              "      <td>Publishing Jobs</td>\n",
              "      <td>We at Mercantile Enterprises (Pvt) Ltd is look...</td>\n",
              "      <td>Lahore</td>\n",
              "      <td>19-Feb-21</td>\n",
              "    </tr>\n",
              "    <tr>\n",
              "      <th>8</th>\n",
              "      <td>Online Full Time Remote Researcher, Content Cr...</td>\n",
              "      <td>Premium Job</td>\n",
              "      <td>Confidential, Pakistan</td>\n",
              "      <td>Full Time Job</td>\n",
              "      <td>&lt; 1 Year</td>\n",
              "      <td>Admin Job</td>\n",
              "      <td>This job is a remote working opportunity. We a...</td>\n",
              "      <td>Faisalabad</td>\n",
              "      <td>17-Feb-21</td>\n",
              "    </tr>\n",
              "    <tr>\n",
              "      <th>9</th>\n",
              "      <td>Full Time Angularjs And .Net Core Developer Jo...</td>\n",
              "      <td>Premium Job</td>\n",
              "      <td>Eurosoft Tech Private Limited, Pakistan</td>\n",
              "      <td>Full Time Jobs</td>\n",
              "      <td>7 Years Job Exp.</td>\n",
              "      <td>IT Jobs</td>\n",
              "      <td>Command on following skillsAngularJS\\nNodeJs\\n...</td>\n",
              "      <td>Karachi</td>\n",
              "      <td>16-Feb-21</td>\n",
              "    </tr>\n",
              "  </tbody>\n",
              "</table>\n",
              "</div>\n",
              "      <button class=\"colab-df-convert\" onclick=\"convertToInteractive('df-2eccccd3-1fd1-47d2-b9ae-819efeea912f')\"\n",
              "              title=\"Convert this dataframe to an interactive table.\"\n",
              "              style=\"display:none;\">\n",
              "        \n",
              "  <svg xmlns=\"http://www.w3.org/2000/svg\" height=\"24px\"viewBox=\"0 0 24 24\"\n",
              "       width=\"24px\">\n",
              "    <path d=\"M0 0h24v24H0V0z\" fill=\"none\"/>\n",
              "    <path d=\"M18.56 5.44l.94 2.06.94-2.06 2.06-.94-2.06-.94-.94-2.06-.94 2.06-2.06.94zm-11 1L8.5 8.5l.94-2.06 2.06-.94-2.06-.94L8.5 2.5l-.94 2.06-2.06.94zm10 10l.94 2.06.94-2.06 2.06-.94-2.06-.94-.94-2.06-.94 2.06-2.06.94z\"/><path d=\"M17.41 7.96l-1.37-1.37c-.4-.4-.92-.59-1.43-.59-.52 0-1.04.2-1.43.59L10.3 9.45l-7.72 7.72c-.78.78-.78 2.05 0 2.83L4 21.41c.39.39.9.59 1.41.59.51 0 1.02-.2 1.41-.59l7.78-7.78 2.81-2.81c.8-.78.8-2.07 0-2.86zM5.41 20L4 18.59l7.72-7.72 1.47 1.35L5.41 20z\"/>\n",
              "  </svg>\n",
              "      </button>\n",
              "      \n",
              "  <style>\n",
              "    .colab-df-container {\n",
              "      display:flex;\n",
              "      flex-wrap:wrap;\n",
              "      gap: 12px;\n",
              "    }\n",
              "\n",
              "    .colab-df-convert {\n",
              "      background-color: #E8F0FE;\n",
              "      border: none;\n",
              "      border-radius: 50%;\n",
              "      cursor: pointer;\n",
              "      display: none;\n",
              "      fill: #1967D2;\n",
              "      height: 32px;\n",
              "      padding: 0 0 0 0;\n",
              "      width: 32px;\n",
              "    }\n",
              "\n",
              "    .colab-df-convert:hover {\n",
              "      background-color: #E2EBFA;\n",
              "      box-shadow: 0px 1px 2px rgba(60, 64, 67, 0.3), 0px 1px 3px 1px rgba(60, 64, 67, 0.15);\n",
              "      fill: #174EA6;\n",
              "    }\n",
              "\n",
              "    [theme=dark] .colab-df-convert {\n",
              "      background-color: #3B4455;\n",
              "      fill: #D2E3FC;\n",
              "    }\n",
              "\n",
              "    [theme=dark] .colab-df-convert:hover {\n",
              "      background-color: #434B5C;\n",
              "      box-shadow: 0px 1px 3px 1px rgba(0, 0, 0, 0.15);\n",
              "      filter: drop-shadow(0px 1px 2px rgba(0, 0, 0, 0.3));\n",
              "      fill: #FFFFFF;\n",
              "    }\n",
              "  </style>\n",
              "\n",
              "      <script>\n",
              "        const buttonEl =\n",
              "          document.querySelector('#df-2eccccd3-1fd1-47d2-b9ae-819efeea912f button.colab-df-convert');\n",
              "        buttonEl.style.display =\n",
              "          google.colab.kernel.accessAllowed ? 'block' : 'none';\n",
              "\n",
              "        async function convertToInteractive(key) {\n",
              "          const element = document.querySelector('#df-2eccccd3-1fd1-47d2-b9ae-819efeea912f');\n",
              "          const dataTable =\n",
              "            await google.colab.kernel.invokeFunction('convertToInteractive',\n",
              "                                                     [key], {});\n",
              "          if (!dataTable) return;\n",
              "\n",
              "          const docLinkHtml = 'Like what you see? Visit the ' +\n",
              "            '<a target=\"_blank\" href=https://colab.research.google.com/notebooks/data_table.ipynb>data table notebook</a>'\n",
              "            + ' to learn more about interactive tables.';\n",
              "          element.innerHTML = '';\n",
              "          dataTable['output_type'] = 'display_data';\n",
              "          await google.colab.output.renderOutput(dataTable, element);\n",
              "          const docLink = document.createElement('div');\n",
              "          docLink.innerHTML = docLinkHtml;\n",
              "          element.appendChild(docLink);\n",
              "        }\n",
              "      </script>\n",
              "    </div>\n",
              "  </div>\n",
              "  "
            ]
          },
          "metadata": {},
          "execution_count": 28
        }
      ]
    },
    {
      "cell_type": "markdown",
      "source": [
        "#Check Dataset shape to know the quantity of rows and columns"
      ],
      "metadata": {
        "id": "tUFyphnLQRxM"
      }
    },
    {
      "cell_type": "code",
      "source": [
        "jobs.shape\n",
        "#data set has 6680 rows and 9 Columns"
      ],
      "metadata": {
        "colab": {
          "base_uri": "https://localhost:8080/"
        },
        "id": "HJdC0BTzQbdH",
        "outputId": "0fab6d13-0b09-4251-99db-db30be206c38"
      },
      "execution_count": 29,
      "outputs": [
        {
          "output_type": "execute_result",
          "data": {
            "text/plain": [
              "(6680, 9)"
            ]
          },
          "metadata": {},
          "execution_count": 29
        }
      ]
    },
    {
      "cell_type": "markdown",
      "source": [
        "#Let check summary of dataset"
      ],
      "metadata": {
        "id": "SJPIwGM0QlZV"
      }
    },
    {
      "cell_type": "code",
      "source": [
        "jobs.describe()"
      ],
      "metadata": {
        "colab": {
          "base_uri": "https://localhost:8080/",
          "height": 254
        },
        "id": "Dfft59-HQqP4",
        "outputId": "c941dec1-e02e-4c4e-b879-4f6ff2e59218"
      },
      "execution_count": 31,
      "outputs": [
        {
          "output_type": "execute_result",
          "data": {
            "text/plain": [
              "                                          Job Name        label  \\\n",
              "count                                         6680         1115   \n",
              "unique                                        3838            3   \n",
              "top     Full Time Graphic Designer Job in Pakistan  Gallery Job   \n",
              "freq                                            60          775   \n",
              "\n",
              "          Company Name       Job Type Experience Required Department  \\\n",
              "count             6017           6680                6680       6680   \n",
              "unique            2879              2                  17        111   \n",
              "top     ibex, Pakistan  Full Time Job    2 Years Job Exp.     IT Job   \n",
              "freq                93           3821                1635        820   \n",
              "\n",
              "                                                       JD    City Date Posted  \n",
              "count                                                6680    6680        6680  \n",
              "unique                                               5043      86         443  \n",
              "top     To generate quality leads that result in sales...  Lahore   23-Feb-21  \n",
              "freq                                                   37    2046         134  "
            ],
            "text/html": [
              "\n",
              "  <div id=\"df-52bd639a-b539-4c4b-bd86-d416972f2f67\">\n",
              "    <div class=\"colab-df-container\">\n",
              "      <div>\n",
              "<style scoped>\n",
              "    .dataframe tbody tr th:only-of-type {\n",
              "        vertical-align: middle;\n",
              "    }\n",
              "\n",
              "    .dataframe tbody tr th {\n",
              "        vertical-align: top;\n",
              "    }\n",
              "\n",
              "    .dataframe thead th {\n",
              "        text-align: right;\n",
              "    }\n",
              "</style>\n",
              "<table border=\"1\" class=\"dataframe\">\n",
              "  <thead>\n",
              "    <tr style=\"text-align: right;\">\n",
              "      <th></th>\n",
              "      <th>Job Name</th>\n",
              "      <th>label</th>\n",
              "      <th>Company Name</th>\n",
              "      <th>Job Type</th>\n",
              "      <th>Experience Required</th>\n",
              "      <th>Department</th>\n",
              "      <th>JD</th>\n",
              "      <th>City</th>\n",
              "      <th>Date Posted</th>\n",
              "    </tr>\n",
              "  </thead>\n",
              "  <tbody>\n",
              "    <tr>\n",
              "      <th>count</th>\n",
              "      <td>6680</td>\n",
              "      <td>1115</td>\n",
              "      <td>6017</td>\n",
              "      <td>6680</td>\n",
              "      <td>6680</td>\n",
              "      <td>6680</td>\n",
              "      <td>6680</td>\n",
              "      <td>6680</td>\n",
              "      <td>6680</td>\n",
              "    </tr>\n",
              "    <tr>\n",
              "      <th>unique</th>\n",
              "      <td>3838</td>\n",
              "      <td>3</td>\n",
              "      <td>2879</td>\n",
              "      <td>2</td>\n",
              "      <td>17</td>\n",
              "      <td>111</td>\n",
              "      <td>5043</td>\n",
              "      <td>86</td>\n",
              "      <td>443</td>\n",
              "    </tr>\n",
              "    <tr>\n",
              "      <th>top</th>\n",
              "      <td>Full Time Graphic Designer Job in Pakistan</td>\n",
              "      <td>Gallery Job</td>\n",
              "      <td>ibex, Pakistan</td>\n",
              "      <td>Full Time Job</td>\n",
              "      <td>2 Years Job Exp.</td>\n",
              "      <td>IT Job</td>\n",
              "      <td>To generate quality leads that result in sales...</td>\n",
              "      <td>Lahore</td>\n",
              "      <td>23-Feb-21</td>\n",
              "    </tr>\n",
              "    <tr>\n",
              "      <th>freq</th>\n",
              "      <td>60</td>\n",
              "      <td>775</td>\n",
              "      <td>93</td>\n",
              "      <td>3821</td>\n",
              "      <td>1635</td>\n",
              "      <td>820</td>\n",
              "      <td>37</td>\n",
              "      <td>2046</td>\n",
              "      <td>134</td>\n",
              "    </tr>\n",
              "  </tbody>\n",
              "</table>\n",
              "</div>\n",
              "      <button class=\"colab-df-convert\" onclick=\"convertToInteractive('df-52bd639a-b539-4c4b-bd86-d416972f2f67')\"\n",
              "              title=\"Convert this dataframe to an interactive table.\"\n",
              "              style=\"display:none;\">\n",
              "        \n",
              "  <svg xmlns=\"http://www.w3.org/2000/svg\" height=\"24px\"viewBox=\"0 0 24 24\"\n",
              "       width=\"24px\">\n",
              "    <path d=\"M0 0h24v24H0V0z\" fill=\"none\"/>\n",
              "    <path d=\"M18.56 5.44l.94 2.06.94-2.06 2.06-.94-2.06-.94-.94-2.06-.94 2.06-2.06.94zm-11 1L8.5 8.5l.94-2.06 2.06-.94-2.06-.94L8.5 2.5l-.94 2.06-2.06.94zm10 10l.94 2.06.94-2.06 2.06-.94-2.06-.94-.94-2.06-.94 2.06-2.06.94z\"/><path d=\"M17.41 7.96l-1.37-1.37c-.4-.4-.92-.59-1.43-.59-.52 0-1.04.2-1.43.59L10.3 9.45l-7.72 7.72c-.78.78-.78 2.05 0 2.83L4 21.41c.39.39.9.59 1.41.59.51 0 1.02-.2 1.41-.59l7.78-7.78 2.81-2.81c.8-.78.8-2.07 0-2.86zM5.41 20L4 18.59l7.72-7.72 1.47 1.35L5.41 20z\"/>\n",
              "  </svg>\n",
              "      </button>\n",
              "      \n",
              "  <style>\n",
              "    .colab-df-container {\n",
              "      display:flex;\n",
              "      flex-wrap:wrap;\n",
              "      gap: 12px;\n",
              "    }\n",
              "\n",
              "    .colab-df-convert {\n",
              "      background-color: #E8F0FE;\n",
              "      border: none;\n",
              "      border-radius: 50%;\n",
              "      cursor: pointer;\n",
              "      display: none;\n",
              "      fill: #1967D2;\n",
              "      height: 32px;\n",
              "      padding: 0 0 0 0;\n",
              "      width: 32px;\n",
              "    }\n",
              "\n",
              "    .colab-df-convert:hover {\n",
              "      background-color: #E2EBFA;\n",
              "      box-shadow: 0px 1px 2px rgba(60, 64, 67, 0.3), 0px 1px 3px 1px rgba(60, 64, 67, 0.15);\n",
              "      fill: #174EA6;\n",
              "    }\n",
              "\n",
              "    [theme=dark] .colab-df-convert {\n",
              "      background-color: #3B4455;\n",
              "      fill: #D2E3FC;\n",
              "    }\n",
              "\n",
              "    [theme=dark] .colab-df-convert:hover {\n",
              "      background-color: #434B5C;\n",
              "      box-shadow: 0px 1px 3px 1px rgba(0, 0, 0, 0.15);\n",
              "      filter: drop-shadow(0px 1px 2px rgba(0, 0, 0, 0.3));\n",
              "      fill: #FFFFFF;\n",
              "    }\n",
              "  </style>\n",
              "\n",
              "      <script>\n",
              "        const buttonEl =\n",
              "          document.querySelector('#df-52bd639a-b539-4c4b-bd86-d416972f2f67 button.colab-df-convert');\n",
              "        buttonEl.style.display =\n",
              "          google.colab.kernel.accessAllowed ? 'block' : 'none';\n",
              "\n",
              "        async function convertToInteractive(key) {\n",
              "          const element = document.querySelector('#df-52bd639a-b539-4c4b-bd86-d416972f2f67');\n",
              "          const dataTable =\n",
              "            await google.colab.kernel.invokeFunction('convertToInteractive',\n",
              "                                                     [key], {});\n",
              "          if (!dataTable) return;\n",
              "\n",
              "          const docLinkHtml = 'Like what you see? Visit the ' +\n",
              "            '<a target=\"_blank\" href=https://colab.research.google.com/notebooks/data_table.ipynb>data table notebook</a>'\n",
              "            + ' to learn more about interactive tables.';\n",
              "          element.innerHTML = '';\n",
              "          dataTable['output_type'] = 'display_data';\n",
              "          await google.colab.output.renderOutput(dataTable, element);\n",
              "          const docLink = document.createElement('div');\n",
              "          docLink.innerHTML = docLinkHtml;\n",
              "          element.appendChild(docLink);\n",
              "        }\n",
              "      </script>\n",
              "    </div>\n",
              "  </div>\n",
              "  "
            ]
          },
          "metadata": {},
          "execution_count": 31
        }
      ]
    },
    {
      "cell_type": "code",
      "source": [
        "jobs.info()   "
      ],
      "metadata": {
        "colab": {
          "base_uri": "https://localhost:8080/"
        },
        "id": "NdKmhP3RSLbO",
        "outputId": "05eefe01-c5f5-4828-fff8-e207c5c93bd2"
      },
      "execution_count": 32,
      "outputs": [
        {
          "output_type": "stream",
          "name": "stdout",
          "text": [
            "<class 'pandas.core.frame.DataFrame'>\n",
            "RangeIndex: 6680 entries, 0 to 6679\n",
            "Data columns (total 9 columns):\n",
            " #   Column               Non-Null Count  Dtype \n",
            "---  ------               --------------  ----- \n",
            " 0   Job Name             6680 non-null   object\n",
            " 1   label                1115 non-null   object\n",
            " 2   Company Name         6017 non-null   object\n",
            " 3   Job Type             6680 non-null   object\n",
            " 4   Experience Required  6680 non-null   object\n",
            " 5   Department           6680 non-null   object\n",
            " 6   JD                   6680 non-null   object\n",
            " 7   City                 6680 non-null   object\n",
            " 8   Date Posted          6680 non-null   object\n",
            "dtypes: object(9)\n",
            "memory usage: 469.8+ KB\n"
          ]
        }
      ]
    },
    {
      "cell_type": "markdown",
      "source": [
        "#Lets Extract the columns to analyse data accordingly"
      ],
      "metadata": {
        "id": "RvhebMZGSs7T"
      }
    },
    {
      "cell_type": "code",
      "source": [
        "jobs.columns"
      ],
      "metadata": {
        "colab": {
          "base_uri": "https://localhost:8080/"
        },
        "id": "c2WIum6rS0Ug",
        "outputId": "4be6481e-584a-4db7-c8f4-36d75126942c"
      },
      "execution_count": 33,
      "outputs": [
        {
          "output_type": "execute_result",
          "data": {
            "text/plain": [
              "Index(['Job Name', 'label', 'Company Name', 'Job Type', 'Experience Required',\n",
              "       'Department', 'JD', 'City', 'Date Posted'],\n",
              "      dtype='object')"
            ]
          },
          "metadata": {},
          "execution_count": 33
        }
      ]
    },
    {
      "cell_type": "markdown",
      "source": [
        "#Is there any NAN data in this dataset"
      ],
      "metadata": {
        "id": "hqw0OqxRTNvH"
      }
    },
    {
      "cell_type": "code",
      "source": [
        "jobs.isnull().sum()\n",
        "#there are 5565/6680 null values in Label column. and 663 Null values are in Company name.\n",
        "#let drop the label column completely.\n",
        "jobs = jobs.drop(columns='label')"
      ],
      "metadata": {
        "colab": {
          "base_uri": "https://localhost:8080/"
        },
        "id": "-WAclOEcTa8O",
        "outputId": "87168ac2-1b18-4564-e483-1e9622b961dc"
      },
      "execution_count": 36,
      "outputs": [
        {
          "output_type": "execute_result",
          "data": {
            "text/plain": [
              "Job Name                 0\n",
              "Company Name           663\n",
              "Job Type                 0\n",
              "Experience Required      0\n",
              "Department               0\n",
              "JD                       0\n",
              "City                     0\n",
              "Date Posted              0\n",
              "dtype: int64"
            ]
          },
          "metadata": {},
          "execution_count": 36
        }
      ]
    },
    {
      "cell_type": "code",
      "source": [
        "#lets drop NA rows from Company Name\n",
        "jobs = jobs.dropna()\n",
        "jobs.isnull().sum()"
      ],
      "metadata": {
        "colab": {
          "base_uri": "https://localhost:8080/"
        },
        "id": "GU2BfJfPUzI6",
        "outputId": "150ff522-f07b-42fc-ada4-2365826ea083"
      },
      "execution_count": 37,
      "outputs": [
        {
          "output_type": "execute_result",
          "data": {
            "text/plain": [
              "Job Name               0\n",
              "Company Name           0\n",
              "Job Type               0\n",
              "Experience Required    0\n",
              "Department             0\n",
              "JD                     0\n",
              "City                   0\n",
              "Date Posted            0\n",
              "dtype: int64"
            ]
          },
          "metadata": {},
          "execution_count": 37
        }
      ]
    },
    {
      "cell_type": "markdown",
      "source": [
        "#  Let's Find out how many departments are in Jobs"
      ],
      "metadata": {
        "id": "RXw0SO7OXnug"
      }
    },
    {
      "cell_type": "code",
      "source": [
        "jobs['Department'].nunique()"
      ],
      "metadata": {
        "colab": {
          "base_uri": "https://localhost:8080/"
        },
        "id": "lG8k6FFUX4dD",
        "outputId": "e4f69b89-17c6-4304-f3f8-38bda5bc4113"
      },
      "execution_count": 40,
      "outputs": [
        {
          "output_type": "execute_result",
          "data": {
            "text/plain": [
              "109"
            ]
          },
          "metadata": {},
          "execution_count": 40
        }
      ]
    },
    {
      "cell_type": "code",
      "source": [
        "jobs['Department'].unique()"
      ],
      "metadata": {
        "colab": {
          "base_uri": "https://localhost:8080/"
        },
        "id": "ZMc-4vNCYKU4",
        "outputId": "dfd2fc11-f034-49be-90aa-42b4846b12ee"
      },
      "execution_count": 43,
      "outputs": [
        {
          "output_type": "execute_result",
          "data": {
            "text/plain": [
              "array(['IT Jobs', 'Customer Service Jobs', 'Customer Service Job',\n",
              "       'Production Job', 'Sales Jobs', 'Publishing Jobs', 'Admin Job',\n",
              "       'Computer Software Jobs', 'Pharmacy Job', 'Education Jobs',\n",
              "       'Computer Software Job', 'Web & E-commerce Job', 'Autos Job',\n",
              "       'Marketing Jobs', 'Autos Jobs', 'Business Opportunity Jobs',\n",
              "       'Web & E-commerce Jobs', 'Real Estate Job', 'Real Estate Jobs',\n",
              "       'Healthcare Job', 'IT Job', 'Telecom Jobs', 'Retail Job',\n",
              "       'Media Jobs', 'Marketing Job', 'Warehousing Job', 'NGO Jobs',\n",
              "       'Insurance Jobs', 'Recruitment Job', 'Finance Job',\n",
              "       'Support Services Job', 'Healthcare Jobs', 'Management Jobs',\n",
              "       'Accounting Job', 'Engineering Jobs', 'HR & Recruiting Job',\n",
              "       'Sales Job', 'Insurance Job', 'Business Opportunity Job',\n",
              "       'Hospitality Job', 'Education Job', 'Management Job',\n",
              "       'Support Services Jobs', 'Supply Chain Jobs', 'Accounting Jobs',\n",
              "       'Architect Job', 'HR & Recruiting Jobs', 'Oil & Gas Jobs',\n",
              "       'Housekeeping Job', 'Social Services Jobs', 'Finance Jobs',\n",
              "       'Maintenance Job', 'Construction Job', 'Medical & Dental Job',\n",
              "       'Engineering Job', 'Admin Jobs', 'Consulting Jobs',\n",
              "       'Electronics Jobs', 'Construction Jobs', 'Electronics Job',\n",
              "       'Medical & Dental Jobs', 'Publishing Job', 'Restaurant Job',\n",
              "       'Media Job', 'Legal Job', 'NGO Job', 'Economics Jobs',\n",
              "       'Supply Chain Job', 'Production Jobs', 'Maintenance Jobs',\n",
              "       'Personal Care Job', 'Consumer Job', 'Hospitality Jobs',\n",
              "       'Pharmacy Jobs', 'Oil & Gas Job', 'Sports Job',\n",
              "       'Computer Hardware Job', 'Security Jobs',\n",
              "       'Pharma & Biotechnology Job', 'Science Job', 'Social Services Job',\n",
              "       'Pharma & Biotechnology Jobs', 'Architect Jobs', 'Pathology Job',\n",
              "       'Consulting Job', 'Retail Jobs', 'Consumer Jobs',\n",
              "       'Agriculture Job', 'Telecom Job', 'Sports Jobs',\n",
              "       'Personal Care Jobs', 'Commission Job', 'Aviation Jobs',\n",
              "       'Pathology Jobs', 'Restaurant Jobs', 'Banking Job',\n",
              "       'Procurement Job', 'Career Fairs Jobs', 'Housekeeping Jobs',\n",
              "       'Aviation Job', 'Warehousing Jobs', 'Security Job',\n",
              "       'Recruitment Jobs', 'Procurement Jobs', 'Banking Jobs',\n",
              "       'Nursing Jobs', 'Computer Hardware Jobs', 'Government Job',\n",
              "       'Government Jobs'], dtype=object)"
            ]
          },
          "metadata": {},
          "execution_count": 43
        }
      ]
    },
    {
      "cell_type": "markdown",
      "source": [
        "#Top 5 job Offering Sectors or Departments"
      ],
      "metadata": {
        "id": "vdrJ_1ZqxI3R"
      }
    },
    {
      "cell_type": "code",
      "source": [
        "highest_jobs = jobs.Department.value_counts().nlargest()\n",
        "highest_jobs"
      ],
      "metadata": {
        "colab": {
          "base_uri": "https://localhost:8080/"
        },
        "id": "CdoHQqNGxMtl",
        "outputId": "18103f0b-502e-48e6-d46e-f682f6b53d68"
      },
      "execution_count": 128,
      "outputs": [
        {
          "output_type": "execute_result",
          "data": {
            "text/plain": [
              "IT Job                    768\n",
              "IT Jobs                   591\n",
              "Computer Software Job     437\n",
              "Computer Software Jobs    406\n",
              "Customer Service Jobs     400\n",
              "Name: Department, dtype: int64"
            ]
          },
          "metadata": {},
          "execution_count": 128
        }
      ]
    },
    {
      "cell_type": "code",
      "source": [
        "highest_jobs.plot.bar()\n",
        "plt.xlabel('Departments')\n",
        "plt.ylabel('Number of Jobs')\n",
        "plt.title('Top 5 jobs Offering departments')\n"
      ],
      "metadata": {
        "colab": {
          "base_uri": "https://localhost:8080/",
          "height": 422
        },
        "id": "2DtMgCpvyAFx",
        "outputId": "5280390d-f0a7-40a0-912c-9e3ce7fc4361"
      },
      "execution_count": 131,
      "outputs": [
        {
          "output_type": "execute_result",
          "data": {
            "text/plain": [
              "Text(0.5, 1.0, 'Top 5 jobs Offering departments')"
            ]
          },
          "metadata": {},
          "execution_count": 131
        },
        {
          "output_type": "display_data",
          "data": {
            "text/plain": [
              "<Figure size 432x288 with 1 Axes>"
            ],
            "image/png": "[encoded data removed]"
          },
          "metadata": {
            "needs_background": "light"
          }
        }
      ]
    },
    {
      "cell_type": "markdown",
      "source": [
        "#How many jobs are in IT and which are they?"
      ],
      "metadata": {
        "id": "zRSfjUF3ctwS"
      }
    },
    {
      "cell_type": "code",
      "source": [
        "jobs[((jobs.Department=='IT Job') | (jobs.Department=='IT Jobs'))]\n",
        "#There are 1359 jobs are in IT Sector"
      ],
      "metadata": {
        "colab": {
          "base_uri": "https://localhost:8080/",
          "height": 659
        },
        "id": "lWtJiKSvc6GA",
        "outputId": "8229426b-f604-4f29-e057-e9dad3ed5455"
      },
      "execution_count": 65,
      "outputs": [
        {
          "output_type": "execute_result",
          "data": {
            "text/plain": [
              "                                               Job Name  \\\n",
              "0     Full Time New Job Positions .Net, .Netcore, Fl...   \n",
              "1       Full Time Senior Web Developer Jobs in Pakistan   \n",
              "9     Full Time Angularjs And .Net Core Developer Jo...   \n",
              "31    Full Time Node.Js And Angular Developer Jobs i...   \n",
              "34    Full Time Senior SQA Automation Engineer Jobs ...   \n",
              "...                                                 ...   \n",
              "6659       Full Time Graphics Designer Jobs in Pakistan   \n",
              "6660  Full Time Full Stack PHP / Wordpress Developer...   \n",
              "6661  Full Time Customer Service Representative Job ...   \n",
              "6664  Full Time Bidding Executive / Business Develop...   \n",
              "6674  Full Time Senior Python Developer  Jobs in Pak...   \n",
              "\n",
              "                                 Company Name        Job Type  \\\n",
              "0                   Nayel Solutions, Pakistan  Full Time Jobs   \n",
              "1     Eurosoft Tech Private Limited, Pakistan  Full Time Jobs   \n",
              "9     Eurosoft Tech Private Limited, Pakistan  Full Time Jobs   \n",
              "31                Abacus Multimedia, Pakistan  Full Time Jobs   \n",
              "34    Eurosoft Tech Private Limited, Pakistan  Full Time Jobs   \n",
              "...                                       ...             ...   \n",
              "6659               Beta Angels Apps, Pakistan  Full Time Jobs   \n",
              "6660                     Allure SEO, Pakistan  Full Time Jobs   \n",
              "6661                       GM Group, Pakistan   Full Time Job   \n",
              "6664                 MotifCreatives, Pakistan   Full Time Job   \n",
              "6674   Bridging Trade International, Pakistan  Full Time Jobs   \n",
              "\n",
              "     Experience Required Department  \\\n",
              "0       2 Years Job Exp.    IT Jobs   \n",
              "1       2 Years Job Exp.    IT Jobs   \n",
              "9       7 Years Job Exp.    IT Jobs   \n",
              "31      3 Years Job Exp.    IT Jobs   \n",
              "34      2 Years Job Exp.    IT Jobs   \n",
              "...                  ...        ...   \n",
              "6659     1 Year Job Exp.    IT Jobs   \n",
              "6660    4 Years Job Exp.    IT Jobs   \n",
              "6661            < 1 Year     IT Job   \n",
              "6664    3 Years Job Exp.     IT Job   \n",
              "6674    4 Years Job Exp.    IT Jobs   \n",
              "\n",
              "                                                     JD        City  \\\n",
              "0     New Job Positions .net, .netcore, flutter, Tea...   Islamabad   \n",
              "1     We are looking for an experienced Web Develope...     Karachi   \n",
              "9     Command on following skillsAngularJS\\nNodeJs\\n...     Karachi   \n",
              "31    Full-stack Node.js and Angular developers\\nAba...  Faisalabad   \n",
              "34    We are looking for an experienced automate sof...     Karachi   \n",
              "...                                                 ...         ...   \n",
              "6659  We are looking for an accomplished and capable...   Islamabad   \n",
              "6660  Allure SEO (www.allureseo.com) the Brooklyn-ba...   Islamabad   \n",
              "6661  Grey Media Corporation is looking for a talent...      Lahore   \n",
              "6664  We are seeking talented, hardworking, &amp; mo...   Islamabad   \n",
              "6674  What they will do:&middot; Development of appl...   Islamabad   \n",
              "\n",
              "     Date Posted  \n",
              "0      12-Mar-21  \n",
              "1      12-Mar-21  \n",
              "9      16-Feb-21  \n",
              "31     13-Mar-21  \n",
              "34     12-Mar-21  \n",
              "...          ...  \n",
              "6659   31-Dec-20  \n",
              "6660   30-Dec-20  \n",
              "6661   30-Dec-20  \n",
              "6664   30-Dec-20  \n",
              "6674   30-Dec-20  \n",
              "\n",
              "[1359 rows x 8 columns]"
            ],
            "text/html": [
              "\n",
              "  <div id=\"df-41e7c6c7-d9b5-4cf1-81d2-2038a8a8b62a\">\n",
              "    <div class=\"colab-df-container\">\n",
              "      <div>\n",
              "<style scoped>\n",
              "    .dataframe tbody tr th:only-of-type {\n",
              "        vertical-align: middle;\n",
              "    }\n",
              "\n",
              "    .dataframe tbody tr th {\n",
              "        vertical-align: top;\n",
              "    }\n",
              "\n",
              "    .dataframe thead th {\n",
              "        text-align: right;\n",
              "    }\n",
              "</style>\n",
              "<table border=\"1\" class=\"dataframe\">\n",
              "  <thead>\n",
              "    <tr style=\"text-align: right;\">\n",
              "      <th></th>\n",
              "      <th>Job Name</th>\n",
              "      <th>Company Name</th>\n",
              "      <th>Job Type</th>\n",
              "      <th>Experience Required</th>\n",
              "      <th>Department</th>\n",
              "      <th>JD</th>\n",
              "      <th>City</th>\n",
              "      <th>Date Posted</th>\n",
              "    </tr>\n",
              "  </thead>\n",
              "  <tbody>\n",
              "    <tr>\n",
              "      <th>0</th>\n",
              "      <td>Full Time New Job Positions .Net, .Netcore, Fl...</td>\n",
              "      <td>Nayel Solutions, Pakistan</td>\n",
              "      <td>Full Time Jobs</td>\n",
              "      <td>2 Years Job Exp.</td>\n",
              "      <td>IT Jobs</td>\n",
              "      <td>New Job Positions .net, .netcore, flutter, Tea...</td>\n",
              "      <td>Islamabad</td>\n",
              "      <td>12-Mar-21</td>\n",
              "    </tr>\n",
              "    <tr>\n",
              "      <th>1</th>\n",
              "      <td>Full Time Senior Web Developer Jobs in Pakistan</td>\n",
              "      <td>Eurosoft Tech Private Limited, Pakistan</td>\n",
              "      <td>Full Time Jobs</td>\n",
              "      <td>2 Years Job Exp.</td>\n",
              "      <td>IT Jobs</td>\n",
              "      <td>We are looking for an experienced Web Develope...</td>\n",
              "      <td>Karachi</td>\n",
              "      <td>12-Mar-21</td>\n",
              "    </tr>\n",
              "    <tr>\n",
              "      <th>9</th>\n",
              "      <td>Full Time Angularjs And .Net Core Developer Jo...</td>\n",
              "      <td>Eurosoft Tech Private Limited, Pakistan</td>\n",
              "      <td>Full Time Jobs</td>\n",
              "      <td>7 Years Job Exp.</td>\n",
              "      <td>IT Jobs</td>\n",
              "      <td>Command on following skillsAngularJS\\nNodeJs\\n...</td>\n",
              "      <td>Karachi</td>\n",
              "      <td>16-Feb-21</td>\n",
              "    </tr>\n",
              "    <tr>\n",
              "      <th>31</th>\n",
              "      <td>Full Time Node.Js And Angular Developer Jobs i...</td>\n",
              "      <td>Abacus Multimedia, Pakistan</td>\n",
              "      <td>Full Time Jobs</td>\n",
              "      <td>3 Years Job Exp.</td>\n",
              "      <td>IT Jobs</td>\n",
              "      <td>Full-stack Node.js and Angular developers\\nAba...</td>\n",
              "      <td>Faisalabad</td>\n",
              "      <td>13-Mar-21</td>\n",
              "    </tr>\n",
              "    <tr>\n",
              "      <th>34</th>\n",
              "      <td>Full Time Senior SQA Automation Engineer Jobs ...</td>\n",
              "      <td>Eurosoft Tech Private Limited, Pakistan</td>\n",
              "      <td>Full Time Jobs</td>\n",
              "      <td>2 Years Job Exp.</td>\n",
              "      <td>IT Jobs</td>\n",
              "      <td>We are looking for an experienced automate sof...</td>\n",
              "      <td>Karachi</td>\n",
              "      <td>12-Mar-21</td>\n",
              "    </tr>\n",
              "    <tr>\n",
              "      <th>...</th>\n",
              "      <td>...</td>\n",
              "      <td>...</td>\n",
              "      <td>...</td>\n",
              "      <td>...</td>\n",
              "      <td>...</td>\n",
              "      <td>...</td>\n",
              "      <td>...</td>\n",
              "      <td>...</td>\n",
              "    </tr>\n",
              "    <tr>\n",
              "      <th>6659</th>\n",
              "      <td>Full Time Graphics Designer Jobs in Pakistan</td>\n",
              "      <td>Beta Angels Apps, Pakistan</td>\n",
              "      <td>Full Time Jobs</td>\n",
              "      <td>1 Year Job Exp.</td>\n",
              "      <td>IT Jobs</td>\n",
              "      <td>We are looking for an accomplished and capable...</td>\n",
              "      <td>Islamabad</td>\n",
              "      <td>31-Dec-20</td>\n",
              "    </tr>\n",
              "    <tr>\n",
              "      <th>6660</th>\n",
              "      <td>Full Time Full Stack PHP / Wordpress Developer...</td>\n",
              "      <td>Allure SEO, Pakistan</td>\n",
              "      <td>Full Time Jobs</td>\n",
              "      <td>4 Years Job Exp.</td>\n",
              "      <td>IT Jobs</td>\n",
              "      <td>Allure SEO (www.allureseo.com) the Brooklyn-ba...</td>\n",
              "      <td>Islamabad</td>\n",
              "      <td>30-Dec-20</td>\n",
              "    </tr>\n",
              "    <tr>\n",
              "      <th>6661</th>\n",
              "      <td>Full Time Customer Service Representative Job ...</td>\n",
              "      <td>GM Group, Pakistan</td>\n",
              "      <td>Full Time Job</td>\n",
              "      <td>&lt; 1 Year</td>\n",
              "      <td>IT Job</td>\n",
              "      <td>Grey Media Corporation is looking for a talent...</td>\n",
              "      <td>Lahore</td>\n",
              "      <td>30-Dec-20</td>\n",
              "    </tr>\n",
              "    <tr>\n",
              "      <th>6664</th>\n",
              "      <td>Full Time Bidding Executive / Business Develop...</td>\n",
              "      <td>MotifCreatives, Pakistan</td>\n",
              "      <td>Full Time Job</td>\n",
              "      <td>3 Years Job Exp.</td>\n",
              "      <td>IT Job</td>\n",
              "      <td>We are seeking talented, hardworking, &amp;amp; mo...</td>\n",
              "      <td>Islamabad</td>\n",
              "      <td>30-Dec-20</td>\n",
              "    </tr>\n",
              "    <tr>\n",
              "      <th>6674</th>\n",
              "      <td>Full Time Senior Python Developer  Jobs in Pak...</td>\n",
              "      <td>Bridging Trade International, Pakistan</td>\n",
              "      <td>Full Time Jobs</td>\n",
              "      <td>4 Years Job Exp.</td>\n",
              "      <td>IT Jobs</td>\n",
              "      <td>What they will do:&amp;middot; Development of appl...</td>\n",
              "      <td>Islamabad</td>\n",
              "      <td>30-Dec-20</td>\n",
              "    </tr>\n",
              "  </tbody>\n",
              "</table>\n",
              "<p>1359 rows × 8 columns</p>\n",
              "</div>\n",
              "      <button class=\"colab-df-convert\" onclick=\"convertToInteractive('df-41e7c6c7-d9b5-4cf1-81d2-2038a8a8b62a')\"\n",
              "              title=\"Convert this dataframe to an interactive table.\"\n",
              "              style=\"display:none;\">\n",
              "        \n",
              "  <svg xmlns=\"http://www.w3.org/2000/svg\" height=\"24px\"viewBox=\"0 0 24 24\"\n",
              "       width=\"24px\">\n",
              "    <path d=\"M0 0h24v24H0V0z\" fill=\"none\"/>\n",
              "    <path d=\"M18.56 5.44l.94 2.06.94-2.06 2.06-.94-2.06-.94-.94-2.06-.94 2.06-2.06.94zm-11 1L8.5 8.5l.94-2.06 2.06-.94-2.06-.94L8.5 2.5l-.94 2.06-2.06.94zm10 10l.94 2.06.94-2.06 2.06-.94-2.06-.94-.94-2.06-.94 2.06-2.06.94z\"/><path d=\"M17.41 7.96l-1.37-1.37c-.4-.4-.92-.59-1.43-.59-.52 0-1.04.2-1.43.59L10.3 9.45l-7.72 7.72c-.78.78-.78 2.05 0 2.83L4 21.41c.39.39.9.59 1.41.59.51 0 1.02-.2 1.41-.59l7.78-7.78 2.81-2.81c.8-.78.8-2.07 0-2.86zM5.41 20L4 18.59l7.72-7.72 1.47 1.35L5.41 20z\"/>\n",
              "  </svg>\n",
              "      </button>\n",
              "      \n",
              "  <style>\n",
              "    .colab-df-container {\n",
              "      display:flex;\n",
              "      flex-wrap:wrap;\n",
              "      gap: 12px;\n",
              "    }\n",
              "\n",
              "    .colab-df-convert {\n",
              "      background-color: #E8F0FE;\n",
              "      border: none;\n",
              "      border-radius: 50%;\n",
              "      cursor: pointer;\n",
              "      display: none;\n",
              "      fill: #1967D2;\n",
              "      height: 32px;\n",
              "      padding: 0 0 0 0;\n",
              "      width: 32px;\n",
              "    }\n",
              "\n",
              "    .colab-df-convert:hover {\n",
              "      background-color: #E2EBFA;\n",
              "      box-shadow: 0px 1px 2px rgba(60, 64, 67, 0.3), 0px 1px 3px 1px rgba(60, 64, 67, 0.15);\n",
              "      fill: #174EA6;\n",
              "    }\n",
              "\n",
              "    [theme=dark] .colab-df-convert {\n",
              "      background-color: #3B4455;\n",
              "      fill: #D2E3FC;\n",
              "    }\n",
              "\n",
              "    [theme=dark] .colab-df-convert:hover {\n",
              "      background-color: #434B5C;\n",
              "      box-shadow: 0px 1px 3px 1px rgba(0, 0, 0, 0.15);\n",
              "      filter: drop-shadow(0px 1px 2px rgba(0, 0, 0, 0.3));\n",
              "      fill: #FFFFFF;\n",
              "    }\n",
              "  </style>\n",
              "\n",
              "      <script>\n",
              "        const buttonEl =\n",
              "          document.querySelector('#df-41e7c6c7-d9b5-4cf1-81d2-2038a8a8b62a button.colab-df-convert');\n",
              "        buttonEl.style.display =\n",
              "          google.colab.kernel.accessAllowed ? 'block' : 'none';\n",
              "\n",
              "        async function convertToInteractive(key) {\n",
              "          const element = document.querySelector('#df-41e7c6c7-d9b5-4cf1-81d2-2038a8a8b62a');\n",
              "          const dataTable =\n",
              "            await google.colab.kernel.invokeFunction('convertToInteractive',\n",
              "                                                     [key], {});\n",
              "          if (!dataTable) return;\n",
              "\n",
              "          const docLinkHtml = 'Like what you see? Visit the ' +\n",
              "            '<a target=\"_blank\" href=https://colab.research.google.com/notebooks/data_table.ipynb>data table notebook</a>'\n",
              "            + ' to learn more about interactive tables.';\n",
              "          element.innerHTML = '';\n",
              "          dataTable['output_type'] = 'display_data';\n",
              "          await google.colab.output.renderOutput(dataTable, element);\n",
              "          const docLink = document.createElement('div');\n",
              "          docLink.innerHTML = docLinkHtml;\n",
              "          element.appendChild(docLink);\n",
              "        }\n",
              "      </script>\n",
              "    </div>\n",
              "  </div>\n",
              "  "
            ]
          },
          "metadata": {},
          "execution_count": 65
        }
      ]
    },
    {
      "cell_type": "markdown",
      "source": [
        "#How many IT jobs are in Islamabad, Lahore and Karachi"
      ],
      "metadata": {
        "id": "am-vj-ssd7li"
      }
    },
    {
      "cell_type": "code",
      "source": [
        "it_jobs = jobs[((jobs.City=='Karachi')|(jobs.City=='Lahore')|(jobs.City=='Islamabad')) & ((jobs.Department=='IT Job') | (jobs.Department=='IT Jobs'))]\n",
        "it_jobs['City'].value_counts()"
      ],
      "metadata": {
        "colab": {
          "base_uri": "https://localhost:8080/"
        },
        "id": "3OviNKeGd5xx",
        "outputId": "763d3f99-4caf-4339-e481-886772a5e35c"
      },
      "execution_count": 119,
      "outputs": [
        {
          "output_type": "execute_result",
          "data": {
            "text/plain": [
              "Lahore       428\n",
              "Karachi      385\n",
              "Islamabad    383\n",
              "Name: City, dtype: int64"
            ]
          },
          "metadata": {},
          "execution_count": 119
        }
      ]
    },
    {
      "cell_type": "markdown",
      "source": [
        "#Lets list down IT companies"
      ],
      "metadata": {
        "id": "TN4eWa3qiIi0"
      }
    },
    {
      "cell_type": "code",
      "source": [
        "it_company = it_jobs.loc[:,['Company Name','City']]\n",
        "it_company.to_excel('it_company.xlsx')\n",
        "it_company\n",
        "\n"
      ],
      "metadata": {
        "colab": {
          "base_uri": "https://localhost:8080/",
          "height": 424
        },
        "id": "Jh6HtqneiOj2",
        "outputId": "7a432069-2f88-4c65-d92a-53bb7c8321f5"
      },
      "execution_count": 120,
      "outputs": [
        {
          "output_type": "execute_result",
          "data": {
            "text/plain": [
              "                                 Company Name       City\n",
              "0                   Nayel Solutions, Pakistan  Islamabad\n",
              "1     Eurosoft Tech Private Limited, Pakistan    Karachi\n",
              "9     Eurosoft Tech Private Limited, Pakistan    Karachi\n",
              "34    Eurosoft Tech Private Limited, Pakistan    Karachi\n",
              "35    Eurosoft Tech Private Limited, Pakistan    Karachi\n",
              "...                                       ...        ...\n",
              "6659               Beta Angels Apps, Pakistan  Islamabad\n",
              "6660                     Allure SEO, Pakistan  Islamabad\n",
              "6661                       GM Group, Pakistan     Lahore\n",
              "6664                 MotifCreatives, Pakistan  Islamabad\n",
              "6674   Bridging Trade International, Pakistan  Islamabad\n",
              "\n",
              "[1196 rows x 2 columns]"
            ],
            "text/html": [
              "\n",
              "  <div id=\"df-44fa9e64-fe0c-4b38-bbf4-19275486139d\">\n",
              "    <div class=\"colab-df-container\">\n",
              "      <div>\n",
              "<style scoped>\n",
              "    .dataframe tbody tr th:only-of-type {\n",
              "        vertical-align: middle;\n",
              "    }\n",
              "\n",
              "    .dataframe tbody tr th {\n",
              "        vertical-align: top;\n",
              "    }\n",
              "\n",
              "    .dataframe thead th {\n",
              "        text-align: right;\n",
              "    }\n",
              "</style>\n",
              "<table border=\"1\" class=\"dataframe\">\n",
              "  <thead>\n",
              "    <tr style=\"text-align: right;\">\n",
              "      <th></th>\n",
              "      <th>Company Name</th>\n",
              "      <th>City</th>\n",
              "    </tr>\n",
              "  </thead>\n",
              "  <tbody>\n",
              "    <tr>\n",
              "      <th>0</th>\n",
              "      <td>Nayel Solutions, Pakistan</td>\n",
              "      <td>Islamabad</td>\n",
              "    </tr>\n",
              "    <tr>\n",
              "      <th>1</th>\n",
              "      <td>Eurosoft Tech Private Limited, Pakistan</td>\n",
              "      <td>Karachi</td>\n",
              "    </tr>\n",
              "    <tr>\n",
              "      <th>9</th>\n",
              "      <td>Eurosoft Tech Private Limited, Pakistan</td>\n",
              "      <td>Karachi</td>\n",
              "    </tr>\n",
              "    <tr>\n",
              "      <th>34</th>\n",
              "      <td>Eurosoft Tech Private Limited, Pakistan</td>\n",
              "      <td>Karachi</td>\n",
              "    </tr>\n",
              "    <tr>\n",
              "      <th>35</th>\n",
              "      <td>Eurosoft Tech Private Limited, Pakistan</td>\n",
              "      <td>Karachi</td>\n",
              "    </tr>\n",
              "    <tr>\n",
              "      <th>...</th>\n",
              "      <td>...</td>\n",
              "      <td>...</td>\n",
              "    </tr>\n",
              "    <tr>\n",
              "      <th>6659</th>\n",
              "      <td>Beta Angels Apps, Pakistan</td>\n",
              "      <td>Islamabad</td>\n",
              "    </tr>\n",
              "    <tr>\n",
              "      <th>6660</th>\n",
              "      <td>Allure SEO, Pakistan</td>\n",
              "      <td>Islamabad</td>\n",
              "    </tr>\n",
              "    <tr>\n",
              "      <th>6661</th>\n",
              "      <td>GM Group, Pakistan</td>\n",
              "      <td>Lahore</td>\n",
              "    </tr>\n",
              "    <tr>\n",
              "      <th>6664</th>\n",
              "      <td>MotifCreatives, Pakistan</td>\n",
              "      <td>Islamabad</td>\n",
              "    </tr>\n",
              "    <tr>\n",
              "      <th>6674</th>\n",
              "      <td>Bridging Trade International, Pakistan</td>\n",
              "      <td>Islamabad</td>\n",
              "    </tr>\n",
              "  </tbody>\n",
              "</table>\n",
              "<p>1196 rows × 2 columns</p>\n",
              "</div>\n",
              "      <button class=\"colab-df-convert\" onclick=\"convertToInteractive('df-44fa9e64-fe0c-4b38-bbf4-19275486139d')\"\n",
              "              title=\"Convert this dataframe to an interactive table.\"\n",
              "              style=\"display:none;\">\n",
              "        \n",
              "  <svg xmlns=\"http://www.w3.org/2000/svg\" height=\"24px\"viewBox=\"0 0 24 24\"\n",
              "       width=\"24px\">\n",
              "    <path d=\"M0 0h24v24H0V0z\" fill=\"none\"/>\n",
              "    <path d=\"M18.56 5.44l.94 2.06.94-2.06 2.06-.94-2.06-.94-.94-2.06-.94 2.06-2.06.94zm-11 1L8.5 8.5l.94-2.06 2.06-.94-2.06-.94L8.5 2.5l-.94 2.06-2.06.94zm10 10l.94 2.06.94-2.06 2.06-.94-2.06-.94-.94-2.06-.94 2.06-2.06.94z\"/><path d=\"M17.41 7.96l-1.37-1.37c-.4-.4-.92-.59-1.43-.59-.52 0-1.04.2-1.43.59L10.3 9.45l-7.72 7.72c-.78.78-.78 2.05 0 2.83L4 21.41c.39.39.9.59 1.41.59.51 0 1.02-.2 1.41-.59l7.78-7.78 2.81-2.81c.8-.78.8-2.07 0-2.86zM5.41 20L4 18.59l7.72-7.72 1.47 1.35L5.41 20z\"/>\n",
              "  </svg>\n",
              "      </button>\n",
              "      \n",
              "  <style>\n",
              "    .colab-df-container {\n",
              "      display:flex;\n",
              "      flex-wrap:wrap;\n",
              "      gap: 12px;\n",
              "    }\n",
              "\n",
              "    .colab-df-convert {\n",
              "      background-color: #E8F0FE;\n",
              "      border: none;\n",
              "      border-radius: 50%;\n",
              "      cursor: pointer;\n",
              "      display: none;\n",
              "      fill: #1967D2;\n",
              "      height: 32px;\n",
              "      padding: 0 0 0 0;\n",
              "      width: 32px;\n",
              "    }\n",
              "\n",
              "    .colab-df-convert:hover {\n",
              "      background-color: #E2EBFA;\n",
              "      box-shadow: 0px 1px 2px rgba(60, 64, 67, 0.3), 0px 1px 3px 1px rgba(60, 64, 67, 0.15);\n",
              "      fill: #174EA6;\n",
              "    }\n",
              "\n",
              "    [theme=dark] .colab-df-convert {\n",
              "      background-color: #3B4455;\n",
              "      fill: #D2E3FC;\n",
              "    }\n",
              "\n",
              "    [theme=dark] .colab-df-convert:hover {\n",
              "      background-color: #434B5C;\n",
              "      box-shadow: 0px 1px 3px 1px rgba(0, 0, 0, 0.15);\n",
              "      filter: drop-shadow(0px 1px 2px rgba(0, 0, 0, 0.3));\n",
              "      fill: #FFFFFF;\n",
              "    }\n",
              "  </style>\n",
              "\n",
              "      <script>\n",
              "        const buttonEl =\n",
              "          document.querySelector('#df-44fa9e64-fe0c-4b38-bbf4-19275486139d button.colab-df-convert');\n",
              "        buttonEl.style.display =\n",
              "          google.colab.kernel.accessAllowed ? 'block' : 'none';\n",
              "\n",
              "        async function convertToInteractive(key) {\n",
              "          const element = document.querySelector('#df-44fa9e64-fe0c-4b38-bbf4-19275486139d');\n",
              "          const dataTable =\n",
              "            await google.colab.kernel.invokeFunction('convertToInteractive',\n",
              "                                                     [key], {});\n",
              "          if (!dataTable) return;\n",
              "\n",
              "          const docLinkHtml = 'Like what you see? Visit the ' +\n",
              "            '<a target=\"_blank\" href=https://colab.research.google.com/notebooks/data_table.ipynb>data table notebook</a>'\n",
              "            + ' to learn more about interactive tables.';\n",
              "          element.innerHTML = '';\n",
              "          dataTable['output_type'] = 'display_data';\n",
              "          await google.colab.output.renderOutput(dataTable, element);\n",
              "          const docLink = document.createElement('div');\n",
              "          docLink.innerHTML = docLinkHtml;\n",
              "          element.appendChild(docLink);\n",
              "        }\n",
              "      </script>\n",
              "    </div>\n",
              "  </div>\n",
              "  "
            ]
          },
          "metadata": {},
          "execution_count": 120
        }
      ]
    },
    {
      "cell_type": "markdown",
      "source": [
        "#Create a Bar Plot of Karachi, Islamabad and Lahore IT Jobs"
      ],
      "metadata": {
        "id": "6t8SLAXMmw81"
      }
    },
    {
      "cell_type": "code",
      "source": [
        "it_jobs['City'].value_counts().plot.bar()\n",
        "plt.xlabel(\"Cities\")\n",
        "plt.ylabel(\"No. of Jobs Offered\")\n",
        "plt.title(\"Jobs Offer in IT Sector\")\n",
        "plt.show()"
      ],
      "metadata": {
        "colab": {
          "base_uri": "https://localhost:8080/",
          "height": 337
        },
        "id": "IyBFx0tkmvbg",
        "outputId": "0e22cef8-8a18-46ab-9b6f-8c68cef2c468"
      },
      "execution_count": 121,
      "outputs": [
        {
          "output_type": "display_data",
          "data": {
            "text/plain": [
              "<Figure size 432x288 with 1 Axes>"
            ],
            "image/png": "[encoded data removed]"
          },
          "metadata": {
            "needs_background": "light"
          }
        }
      ]
    }
  ]
}