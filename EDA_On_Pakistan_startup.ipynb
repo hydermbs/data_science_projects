{
  "nbformat": 4,
  "nbformat_minor": 0,
  "metadata": {
    "colab": {
      "name": "EDA_On_Pakistan_startup.ipynb",
      "provenance": [],
      "authorship_tag": "ABX9TyOHn3ju1IYcrGgMrG9Wvu8P",
      "include_colab_link": true
    },
    "kernelspec": {
      "name": "python3",
      "display_name": "Python 3"
    },
    "language_info": {
      "name": "python"
    }
  },
  "cells": [
    {
      "cell_type": "markdown",
      "metadata": {
        "id": "view-in-github",
        "colab_type": "text"
      },
      "source": [
        "<a href=\"https://colab.research.google.com/github/hydermbs/data_science_projects/blob/main/EDA_On_Pakistan_startup.ipynb\" target=\"_parent\"><img src=\"https://colab.research.google.com/assets/colab-badge.svg\" alt=\"Open In Colab\"/></a>"
      ]
    },
    {
      "cell_type": "markdown",
      "source": [
        "# Import Libraries"
      ],
      "metadata": {
        "id": "ZJ0QUH-EVK_J"
      }
    },
    {
      "cell_type": "code",
      "execution_count": 2,
      "metadata": {
        "id": "s2HNOGuAUo19"
      },
      "outputs": [],
      "source": [
        "import pandas as pd\n",
        "import numpy as np\n",
        "import matplotlib.pyplot as plt"
      ]
    },
    {
      "cell_type": "markdown",
      "source": [
        "# Import file and assign it to variable"
      ],
      "metadata": {
        "id": "cpcn1XL7VQGA"
      }
    },
    {
      "cell_type": "code",
      "source": [
        "from google.colab import files\n",
        "uploaded = files.upload()\n"
      ],
      "metadata": {
        "colab": {
          "resources": {
            "http://localhost:8080/nbextensions/google.colab/files.js": {
              "data": "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",
              "ok": true,
              "headers": [
                [
                  "content-type",
                  "application/javascript"
                ]
              ],
              "status": 200,
              "status_text": ""
            }
          },
          "base_uri": "https://localhost:8080/",
          "height": 73
        },
        "id": "SGXxKiANVUKb",
        "outputId": "094aa578-7b42-4e2c-c492-f9b1e454d066"
      },
      "execution_count": 22,
      "outputs": [
        {
          "output_type": "display_data",
          "data": {
            "text/plain": [
              "<IPython.core.display.HTML object>"
            ],
            "text/html": [
              "\n",
              "     <input type=\"file\" id=\"files-efe30381-ffc2-4f10-963f-efcd7b42eef4\" name=\"files[]\" multiple disabled\n",
              "        style=\"border:none\" />\n",
              "     <output id=\"result-efe30381-ffc2-4f10-963f-efcd7b42eef4\">\n",
              "      Upload widget is only available when the cell has been executed in the\n",
              "      current browser session. Please rerun this cell to enable.\n",
              "      </output>\n",
              "      <script src=\"/nbextensions/google.colab/files.js\"></script> "
            ]
          },
          "metadata": {}
        },
        {
          "output_type": "stream",
          "name": "stdout",
          "text": [
            "Saving Pakistan Startup Census.csv to Pakistan Startup Census.csv\n"
          ]
        }
      ]
    },
    {
      "cell_type": "code",
      "source": [
        "startup= pd.read_csv('Pakistan Startup Census.csv')\n",
        "startup.head()\n"
      ],
      "metadata": {
        "colab": {
          "base_uri": "https://localhost:8080/",
          "height": 337
        },
        "id": "Yj3QPi9aWN0n",
        "outputId": "33f6e3d9-e8c0-429c-9258-19a754da1e30"
      },
      "execution_count": 151,
      "outputs": [
        {
          "output_type": "execute_result",
          "data": {
            "text/plain": [
              "                               Name           Location  \\\n",
              "0                            Outnet  Karachi  Pakistan   \n",
              "1                            7Vals    Lahore  Pakistan   \n",
              "2                        92Solution   Lahore  Pakistan   \n",
              "3  A2Z Yellow Pages & Info Services             Lahore   \n",
              "4                          AALogics  Karachi  Pakistan   \n",
              "\n",
              "                                             Tagline  \\\n",
              "0  Cloud based SaaS platform for planning  procur...   \n",
              "1  Understanding and enabling businesses to impro...   \n",
              "2  92 Solution  A Pakistani Company Giving his Pa...   \n",
              "3  Find local Businesses and Services in Pakistan...   \n",
              "4                                                NaN   \n",
              "\n",
              "                                            Category  \\\n",
              "0  Advertising  OOH  Outdoor Advertising  Data an...   \n",
              "1         Consulting  Rails  Product Development  UI   \n",
              "2         Consulting  Website & Software Development   \n",
              "3                 Online Business Directory & Portal   \n",
              "4                               Consulting  Software   \n",
              "\n",
              "                    Website               Founded  \\\n",
              "0  http://www.outnet.com.pk  1st September  2014    \n",
              "1      http://www.7vals.com                  2011   \n",
              "2     http://92solution.com    7th January  2015    \n",
              "3    https://www.yp-pak.com   30th January  2017    \n",
              "4   http://www.aalogics.com     1st August  2014    \n",
              "\n",
              "                                         Description  \n",
              "0  24Grey is a T4M (technology for marketing) com...  \n",
              "1  We're changing the way businesses work by maki...  \n",
              "2  92 Solution is a Software & Website Developmen...  \n",
              "3  A2Z| Yellow Pages Pakistan will be the innovat...  \n",
              "4  IT Consulting  Web development & Designing  Lo...  "
            ],
            "text/html": [
              "\n",
              "  <div id=\"df-4cf1edaa-a3c7-43a4-806a-ae07e8fb60a3\">\n",
              "    <div class=\"colab-df-container\">\n",
              "      <div>\n",
              "<style scoped>\n",
              "    .dataframe tbody tr th:only-of-type {\n",
              "        vertical-align: middle;\n",
              "    }\n",
              "\n",
              "    .dataframe tbody tr th {\n",
              "        vertical-align: top;\n",
              "    }\n",
              "\n",
              "    .dataframe thead th {\n",
              "        text-align: right;\n",
              "    }\n",
              "</style>\n",
              "<table border=\"1\" class=\"dataframe\">\n",
              "  <thead>\n",
              "    <tr style=\"text-align: right;\">\n",
              "      <th></th>\n",
              "      <th>Name</th>\n",
              "      <th>Location</th>\n",
              "      <th>Tagline</th>\n",
              "      <th>Category</th>\n",
              "      <th>Website</th>\n",
              "      <th>Founded</th>\n",
              "      <th>Description</th>\n",
              "    </tr>\n",
              "  </thead>\n",
              "  <tbody>\n",
              "    <tr>\n",
              "      <th>0</th>\n",
              "      <td>Outnet</td>\n",
              "      <td>Karachi  Pakistan</td>\n",
              "      <td>Cloud based SaaS platform for planning  procur...</td>\n",
              "      <td>Advertising  OOH  Outdoor Advertising  Data an...</td>\n",
              "      <td>http://www.outnet.com.pk</td>\n",
              "      <td>1st September  2014</td>\n",
              "      <td>24Grey is a T4M (technology for marketing) com...</td>\n",
              "    </tr>\n",
              "    <tr>\n",
              "      <th>1</th>\n",
              "      <td>7Vals</td>\n",
              "      <td>Lahore  Pakistan</td>\n",
              "      <td>Understanding and enabling businesses to impro...</td>\n",
              "      <td>Consulting  Rails  Product Development  UI</td>\n",
              "      <td>http://www.7vals.com</td>\n",
              "      <td>2011</td>\n",
              "      <td>We're changing the way businesses work by maki...</td>\n",
              "    </tr>\n",
              "    <tr>\n",
              "      <th>2</th>\n",
              "      <td>92Solution</td>\n",
              "      <td>Lahore  Pakistan</td>\n",
              "      <td>92 Solution  A Pakistani Company Giving his Pa...</td>\n",
              "      <td>Consulting  Website &amp; Software Development</td>\n",
              "      <td>http://92solution.com</td>\n",
              "      <td>7th January  2015</td>\n",
              "      <td>92 Solution is a Software &amp; Website Developmen...</td>\n",
              "    </tr>\n",
              "    <tr>\n",
              "      <th>3</th>\n",
              "      <td>A2Z Yellow Pages &amp; Info Services</td>\n",
              "      <td>Lahore</td>\n",
              "      <td>Find local Businesses and Services in Pakistan...</td>\n",
              "      <td>Online Business Directory &amp; Portal</td>\n",
              "      <td>https://www.yp-pak.com</td>\n",
              "      <td>30th January  2017</td>\n",
              "      <td>A2Z| Yellow Pages Pakistan will be the innovat...</td>\n",
              "    </tr>\n",
              "    <tr>\n",
              "      <th>4</th>\n",
              "      <td>AALogics</td>\n",
              "      <td>Karachi  Pakistan</td>\n",
              "      <td>NaN</td>\n",
              "      <td>Consulting  Software</td>\n",
              "      <td>http://www.aalogics.com</td>\n",
              "      <td>1st August  2014</td>\n",
              "      <td>IT Consulting  Web development &amp; Designing  Lo...</td>\n",
              "    </tr>\n",
              "  </tbody>\n",
              "</table>\n",
              "</div>\n",
              "      <button class=\"colab-df-convert\" onclick=\"convertToInteractive('df-4cf1edaa-a3c7-43a4-806a-ae07e8fb60a3')\"\n",
              "              title=\"Convert this dataframe to an interactive table.\"\n",
              "              style=\"display:none;\">\n",
              "        \n",
              "  <svg xmlns=\"http://www.w3.org/2000/svg\" height=\"24px\"viewBox=\"0 0 24 24\"\n",
              "       width=\"24px\">\n",
              "    <path d=\"M0 0h24v24H0V0z\" fill=\"none\"/>\n",
              "    <path d=\"M18.56 5.44l.94 2.06.94-2.06 2.06-.94-2.06-.94-.94-2.06-.94 2.06-2.06.94zm-11 1L8.5 8.5l.94-2.06 2.06-.94-2.06-.94L8.5 2.5l-.94 2.06-2.06.94zm10 10l.94 2.06.94-2.06 2.06-.94-2.06-.94-.94-2.06-.94 2.06-2.06.94z\"/><path d=\"M17.41 7.96l-1.37-1.37c-.4-.4-.92-.59-1.43-.59-.52 0-1.04.2-1.43.59L10.3 9.45l-7.72 7.72c-.78.78-.78 2.05 0 2.83L4 21.41c.39.39.9.59 1.41.59.51 0 1.02-.2 1.41-.59l7.78-7.78 2.81-2.81c.8-.78.8-2.07 0-2.86zM5.41 20L4 18.59l7.72-7.72 1.47 1.35L5.41 20z\"/>\n",
              "  </svg>\n",
              "      </button>\n",
              "      \n",
              "  <style>\n",
              "    .colab-df-container {\n",
              "      display:flex;\n",
              "      flex-wrap:wrap;\n",
              "      gap: 12px;\n",
              "    }\n",
              "\n",
              "    .colab-df-convert {\n",
              "      background-color: #E8F0FE;\n",
              "      border: none;\n",
              "      border-radius: 50%;\n",
              "      cursor: pointer;\n",
              "      display: none;\n",
              "      fill: #1967D2;\n",
              "      height: 32px;\n",
              "      padding: 0 0 0 0;\n",
              "      width: 32px;\n",
              "    }\n",
              "\n",
              "    .colab-df-convert:hover {\n",
              "      background-color: #E2EBFA;\n",
              "      box-shadow: 0px 1px 2px rgba(60, 64, 67, 0.3), 0px 1px 3px 1px rgba(60, 64, 67, 0.15);\n",
              "      fill: #174EA6;\n",
              "    }\n",
              "\n",
              "    [theme=dark] .colab-df-convert {\n",
              "      background-color: #3B4455;\n",
              "      fill: #D2E3FC;\n",
              "    }\n",
              "\n",
              "    [theme=dark] .colab-df-convert:hover {\n",
              "      background-color: #434B5C;\n",
              "      box-shadow: 0px 1px 3px 1px rgba(0, 0, 0, 0.15);\n",
              "      filter: drop-shadow(0px 1px 2px rgba(0, 0, 0, 0.3));\n",
              "      fill: #FFFFFF;\n",
              "    }\n",
              "  </style>\n",
              "\n",
              "      <script>\n",
              "        const buttonEl =\n",
              "          document.querySelector('#df-4cf1edaa-a3c7-43a4-806a-ae07e8fb60a3 button.colab-df-convert');\n",
              "        buttonEl.style.display =\n",
              "          google.colab.kernel.accessAllowed ? 'block' : 'none';\n",
              "\n",
              "        async function convertToInteractive(key) {\n",
              "          const element = document.querySelector('#df-4cf1edaa-a3c7-43a4-806a-ae07e8fb60a3');\n",
              "          const dataTable =\n",
              "            await google.colab.kernel.invokeFunction('convertToInteractive',\n",
              "                                                     [key], {});\n",
              "          if (!dataTable) return;\n",
              "\n",
              "          const docLinkHtml = 'Like what you see? Visit the ' +\n",
              "            '<a target=\"_blank\" href=https://colab.research.google.com/notebooks/data_table.ipynb>data table notebook</a>'\n",
              "            + ' to learn more about interactive tables.';\n",
              "          element.innerHTML = '';\n",
              "          dataTable['output_type'] = 'display_data';\n",
              "          await google.colab.output.renderOutput(dataTable, element);\n",
              "          const docLink = document.createElement('div');\n",
              "          docLink.innerHTML = docLinkHtml;\n",
              "          element.appendChild(docLink);\n",
              "        }\n",
              "      </script>\n",
              "    </div>\n",
              "  </div>\n",
              "  "
            ]
          },
          "metadata": {},
          "execution_count": 151
        }
      ]
    },
    {
      "cell_type": "markdown",
      "source": [
        "# Find the quantity of Rows and Columns"
      ],
      "metadata": {
        "id": "SvC9oi0FccPr"
      }
    },
    {
      "cell_type": "code",
      "source": [
        "startup.shape"
      ],
      "metadata": {
        "colab": {
          "base_uri": "https://localhost:8080/"
        },
        "id": "vQMU0Vu6Wvex",
        "outputId": "4a68f882-7636-48a9-ea30-84dee84e0f26"
      },
      "execution_count": 111,
      "outputs": [
        {
          "output_type": "execute_result",
          "data": {
            "text/plain": [
              "(553, 7)"
            ]
          },
          "metadata": {},
          "execution_count": 111
        }
      ]
    },
    {
      "cell_type": "markdown",
      "source": [
        "# Find the Columns name"
      ],
      "metadata": {
        "id": "z3QgGGcScnxs"
      }
    },
    {
      "cell_type": "code",
      "source": [
        "startup.columns"
      ],
      "metadata": {
        "colab": {
          "base_uri": "https://localhost:8080/"
        },
        "id": "39Z2oP7zcskY",
        "outputId": "c70e55f8-f642-4e65-92aa-9509ddaa6e7f"
      },
      "execution_count": 112,
      "outputs": [
        {
          "output_type": "execute_result",
          "data": {
            "text/plain": [
              "Index(['Name', 'Location', 'Tagline', 'Category', 'Website', 'Founded',\n",
              "       'Description'],\n",
              "      dtype='object')"
            ]
          },
          "metadata": {},
          "execution_count": 112
        }
      ]
    },
    {
      "cell_type": "markdown",
      "source": [
        "# Find and Drop Null Values if any"
      ],
      "metadata": {
        "id": "OJ4Q8B2Wc4s6"
      }
    },
    {
      "cell_type": "code",
      "source": [
        "startup.isnull().sum()"
      ],
      "metadata": {
        "colab": {
          "base_uri": "https://localhost:8080/"
        },
        "id": "6t2b7Xjvc82t",
        "outputId": "7405d6c2-ad96-4bf8-eb98-0707295419cd"
      },
      "execution_count": 113,
      "outputs": [
        {
          "output_type": "execute_result",
          "data": {
            "text/plain": [
              "Name           120\n",
              "Location       120\n",
              "Tagline        122\n",
              "Category       120\n",
              "Website        135\n",
              "Founded        120\n",
              "Description    163\n",
              "dtype: int64"
            ]
          },
          "metadata": {},
          "execution_count": 113
        }
      ]
    },
    {
      "cell_type": "code",
      "source": [
        "#drop complete null rows\n",
        "startup.dropna(how='all',inplace=True)"
      ],
      "metadata": {
        "id": "qZITXJDOdbjx"
      },
      "execution_count": 114,
      "outputs": []
    },
    {
      "cell_type": "code",
      "source": [
        "startup.isnull().sum()"
      ],
      "metadata": {
        "colab": {
          "base_uri": "https://localhost:8080/"
        },
        "id": "e_P_s_VFd3HZ",
        "outputId": "096dc722-15cb-4019-a300-1f295e4958c1"
      },
      "execution_count": 36,
      "outputs": [
        {
          "output_type": "execute_result",
          "data": {
            "text/plain": [
              "Name            0\n",
              "Location        0\n",
              "Tagline         2\n",
              "Category        0\n",
              "Website        15\n",
              "Founded         0\n",
              "Description    43\n",
              "dtype: int64"
            ]
          },
          "metadata": {},
          "execution_count": 36
        }
      ]
    },
    {
      "cell_type": "code",
      "source": [
        "startup.info()\n"
      ],
      "metadata": {
        "colab": {
          "base_uri": "https://localhost:8080/"
        },
        "id": "5owfOFD6hREc",
        "outputId": "aa735b82-ac3f-45c4-b247-cdd837820630"
      },
      "execution_count": 115,
      "outputs": [
        {
          "output_type": "stream",
          "name": "stdout",
          "text": [
            "<class 'pandas.core.frame.DataFrame'>\n",
            "Int64Index: 433 entries, 0 to 432\n",
            "Data columns (total 7 columns):\n",
            " #   Column       Non-Null Count  Dtype \n",
            "---  ------       --------------  ----- \n",
            " 0   Name         433 non-null    object\n",
            " 1   Location     433 non-null    object\n",
            " 2   Tagline      431 non-null    object\n",
            " 3   Category     433 non-null    object\n",
            " 4   Website      418 non-null    object\n",
            " 5   Founded      433 non-null    object\n",
            " 6   Description  390 non-null    object\n",
            "dtypes: object(7)\n",
            "memory usage: 27.1+ KB\n"
          ]
        }
      ]
    },
    {
      "cell_type": "code",
      "source": [
        "startup = startup.astype('string')"
      ],
      "metadata": {
        "id": "Muhjnyyyhi7w"
      },
      "execution_count": 152,
      "outputs": []
    },
    {
      "cell_type": "markdown",
      "source": [
        "# Find startups categories and Cities and count it"
      ],
      "metadata": {
        "id": "jbKZh5I5ePSy"
      }
    },
    {
      "cell_type": "code",
      "source": [
        "startup[['Category','Location']].nunique()\n"
      ],
      "metadata": {
        "colab": {
          "base_uri": "https://localhost:8080/"
        },
        "id": "Mys2nv-EeWU-",
        "outputId": "e691daec-3c9a-4b2d-fed1-4c3e72737bbc"
      },
      "execution_count": 117,
      "outputs": [
        {
          "output_type": "execute_result",
          "data": {
            "text/plain": [
              "Category    278\n",
              "Location     67\n",
              "dtype: int64"
            ]
          },
          "metadata": {},
          "execution_count": 117
        }
      ]
    },
    {
      "cell_type": "code",
      "source": [
        "startup['Category'].unique()"
      ],
      "metadata": {
        "colab": {
          "base_uri": "https://localhost:8080/"
        },
        "id": "quLqrv8Qeuxj",
        "outputId": "15332c1e-0b48-463d-b20c-f905fb4b589d"
      },
      "execution_count": 118,
      "outputs": [
        {
          "output_type": "execute_result",
          "data": {
            "text/plain": [
              "<StringArray>\n",
              "[                    'Advertising  OOH  Outdoor Advertising  Data and Analytics',\n",
              "                                    'Consulting  Rails  Product Development  UI',\n",
              "                                    'Consulting  Website & Software Development',\n",
              "                                            'Online Business Directory & Portal',\n",
              "                                                          'Consulting  Software',\n",
              "                                                       'Application  E-commerce',\n",
              "                                               'Collection  Microfinance  Bills',\n",
              "                                                'Fashion E-Commerce Marketplace',\n",
              "                                                                      'Software',\n",
              "                                             'Mobile Apps & Web based Software ',\n",
              " ...\n",
              " 'Advertising  OOH  Outdoor Advertising  Data and Analytics Vehicle Advertising',\n",
              "                                                                           'Web',\n",
              "                                                          'Hardware  E-Commerce',\n",
              "                                                      'Cell Phones Smart Phones',\n",
              "                                                         'Software and Hardware',\n",
              "                                                                       'Fitness',\n",
              "                                                             'Delivery Services',\n",
              "                                                                    'Media/News',\n",
              "                                                                   'E-commerce ',\n",
              "                                                               'Property Portal']\n",
              "Length: 278, dtype: string"
            ]
          },
          "metadata": {},
          "execution_count": 118
        }
      ]
    },
    {
      "cell_type": "code",
      "source": [
        "startup['Location'].unique()"
      ],
      "metadata": {
        "colab": {
          "base_uri": "https://localhost:8080/"
        },
        "id": "UlPZ-IX9gdXW",
        "outputId": "a0738b7f-219d-41ee-9f18-f4aaa484f7c5"
      },
      "execution_count": 119,
      "outputs": [
        {
          "output_type": "execute_result",
          "data": {
            "text/plain": [
              "<StringArray>\n",
              "[                                                                               'Karachi  Pakistan',\n",
              "                                                                                 'Lahore  Pakistan',\n",
              "                                                                                           'Lahore',\n",
              "                                                           'Nowshera  Khyber Pakhtunkhwa  Pakistan',\n",
              "                                                                              'Islamabad  PAkistan',\n",
              "                                                                        'San Francisco  California',\n",
              "                                                                              'Islamabad  Pakistan',\n",
              "                                                                                          'Karachi',\n",
              "                                           '214  Block B  13D/2 Gulshan e Iqbal Karachi  Pakistan ',\n",
              "                                                                             'Karachi Â· Pakistan ',\n",
              "                                                                             'Rawalpindi  Pakistan',\n",
              "                                                                             'Rawalpindi/Islamabad',\n",
              "                                                                                'Sialkot  Pakistan',\n",
              "                                                                                 'Karachi Pakistan',\n",
              "                                                                               'Seoul  South Korea',\n",
              "                                                                             'Faisalabad  Pakistan',\n",
              "                                                                               'Karachi  Pakistan ',\n",
              "                                                                      'White Plains  New York  USA',\n",
              "                                                                               'Lahore  Manchester',\n",
              "                                                                                            'Dubai',\n",
              "                                                                                         'Pakistan',\n",
              "                                                                                          'karachi',\n",
              "                                                                                        'Islamabad',\n",
              "                                                                                    'United States',\n",
              "           '3rd Floor Citiview Naheed Supermarket Building Shaheed e Millat road Karachi  Pakistan',\n",
              "                                                                              'Wah Cantt  Pakistan',\n",
              "                                                                                       'Dubai  UAE',\n",
              "                                                                     'Dallas  Texas  United States',\n",
              "                                                                               'Peshawar  Pakistan',\n",
              "                                                                             'TIC  NUST  Islamabad',\n",
              "                                                                                'Lahore  Pakistan ',\n",
              "                                                                                           'Canada',\n",
              "                                                                                 'Quetta  Pakistan',\n",
              "                         'Go Logistics  Ground Floor  Palace Cinema Building  Civil Lines  Karachi',\n",
              "                                                        'Block I North Nazimabad Karachi  Pakistan',\n",
              "                                                                               'Johar Town  Lahore',\n",
              "                                                                                  'Lahore Pakistan',\n",
              "                                  'Dubai  UAE - 1015 Arfa Software Technology Park Lahore Pakistan',\n",
              "                                                                                   'Lahore  Punjab',\n",
              "                                                                                        'Amsterdam',\n",
              "                                                                                    'Wah  Pakistan',\n",
              "                                               'Roosevelt Avenue Sunnyvale  CA 94085 United States',\n",
              "                                                                     'Nowshera  Khyber Pakhtunkhwa',\n",
              "                                                                                         'New York',\n",
              "                                                                                 'Gujrat  Pakistan',\n",
              "                                                                                'karachi  Pakistan',\n",
              "                                                                               'Sargodha  Pakistan',\n",
              "                                    'IBA Center for Entrepreneurial Development  Karachi  Pakistan',\n",
              "                                                                              'Hyderabad  Pakistan',\n",
              "                                          'M-22  Al-Ameen Tower  Nipa Chowrangi  Karachi Pakistan.',\n",
              "                                                                          'Raleigh  North Carolina',\n",
              "                                                                             'Gujranwala  Pakistan',\n",
              "                                                                           'http://www.shoplhr.com',\n",
              "                                                                              'Faisalabad Pakistan',\n",
              "                                                                                      'Los Angeles',\n",
              "                                                                               'Karachi  Pakistan.',\n",
              "                                                                                 'Multan  Pakistan',\n",
              "                                                            'Main Market Gulberg  Lahore  Pakistan',\n",
              "                                                                                    'Palo Alto  CA',\n",
              "                                                                         'Lahore  Punjab  Pakistan',\n",
              "                                                                                'Karachi Pakistan ',\n",
              "                                                                                  'London  England',\n",
              "                                                                               'Toronto  ON Canada',\n",
              "                                                                                  'Gujrat Pakistan',\n",
              "                                                                                'Lahore   Pakistan',\n",
              "                                                                                         'Peshawar',\n",
              " 'Z43/44 first floor darul aman society block 7/8 near hill park sharah e faisal Karachi  Pakistan']\n",
              "Length: 67, dtype: string"
            ]
          },
          "metadata": {},
          "execution_count": 119
        }
      ]
    },
    {
      "cell_type": "markdown",
      "source": [
        "# Make new dataset with addition columns of city name and remove location from abroad"
      ],
      "metadata": {
        "id": "HVkFoAcOiTGX"
      }
    },
    {
      "cell_type": "code",
      "source": [
        "# create new dataset that drops any location not in Pakistan\n",
        "a = [\"States\",'Raleigh', 'York','USA','Canada','England', 'California', 'Los','South','Amsterdam']\n",
        "pak = startup[~startup.Location.str.contains('|'.join(a))]\n",
        "\n",
        "# Make location data only city names\n",
        "city = set(['Karachi', 'Lahore', 'Islamabad','Faisalabad','Rawalpindi',\n",
        "        'Peshawar','Gujrat','Sialkot','Hyderabad','Multan','Sargodha',\n",
        "        'Faisalabad','Quetta','Wah','Gujranwala','Pakhtunkhwa'\n",
        "       ])\n",
        "\n",
        "\n",
        "pak['City'] = pak.Location.str.extract('({0})'.format('|'.join(city)))"
      ],
      "metadata": {
        "colab": {
          "base_uri": "https://localhost:8080/"
        },
        "id": "XPOSS81ihClC",
        "outputId": "d1a23016-def0-4519-d5fc-c074f108a898"
      },
      "execution_count": 153,
      "outputs": [
        {
          "output_type": "stream",
          "name": "stderr",
          "text": [
            "/usr/local/lib/python3.7/dist-packages/ipykernel_launcher.py:12: SettingWithCopyWarning: \n",
            "A value is trying to be set on a copy of a slice from a DataFrame.\n",
            "Try using .loc[row_indexer,col_indexer] = value instead\n",
            "\n",
            "See the caveats in the documentation: https://pandas.pydata.org/pandas-docs/stable/user_guide/indexing.html#returning-a-view-versus-a-copy\n",
            "  if sys.path[0] == '':\n"
          ]
        }
      ]
    },
    {
      "cell_type": "code",
      "source": [
        "pak.head()"
      ],
      "metadata": {
        "colab": {
          "base_uri": "https://localhost:8080/",
          "height": 337
        },
        "id": "9cp9d99Ah8mo",
        "outputId": "51fe1472-5341-436a-dcd9-5a64170c5dbe"
      },
      "execution_count": 121,
      "outputs": [
        {
          "output_type": "execute_result",
          "data": {
            "text/plain": [
              "                               Name           Location  \\\n",
              "0                            Outnet  Karachi  Pakistan   \n",
              "1                            7Vals    Lahore  Pakistan   \n",
              "2                        92Solution   Lahore  Pakistan   \n",
              "3  A2Z Yellow Pages & Info Services             Lahore   \n",
              "4                          AALogics  Karachi  Pakistan   \n",
              "\n",
              "                                             Tagline  \\\n",
              "0  Cloud based SaaS platform for planning  procur...   \n",
              "1  Understanding and enabling businesses to impro...   \n",
              "2  92 Solution  A Pakistani Company Giving his Pa...   \n",
              "3  Find local Businesses and Services in Pakistan...   \n",
              "4                                               <NA>   \n",
              "\n",
              "                                            Category  \\\n",
              "0  Advertising  OOH  Outdoor Advertising  Data an...   \n",
              "1         Consulting  Rails  Product Development  UI   \n",
              "2         Consulting  Website & Software Development   \n",
              "3                 Online Business Directory & Portal   \n",
              "4                               Consulting  Software   \n",
              "\n",
              "                    Website               Founded  \\\n",
              "0  http://www.outnet.com.pk  1st September  2014    \n",
              "1      http://www.7vals.com                  2011   \n",
              "2     http://92solution.com    7th January  2015    \n",
              "3    https://www.yp-pak.com   30th January  2017    \n",
              "4   http://www.aalogics.com     1st August  2014    \n",
              "\n",
              "                                         Description     City  \n",
              "0  24Grey is a T4M (technology for marketing) com...  Karachi  \n",
              "1  We're changing the way businesses work by maki...   Lahore  \n",
              "2  92 Solution is a Software & Website Developmen...   Lahore  \n",
              "3  A2Z| Yellow Pages Pakistan will be the innovat...   Lahore  \n",
              "4  IT Consulting  Web development & Designing  Lo...  Karachi  "
            ],
            "text/html": [
              "\n",
              "  <div id=\"df-370c08f4-6ac8-4bd9-83d6-5f860db85b9a\">\n",
              "    <div class=\"colab-df-container\">\n",
              "      <div>\n",
              "<style scoped>\n",
              "    .dataframe tbody tr th:only-of-type {\n",
              "        vertical-align: middle;\n",
              "    }\n",
              "\n",
              "    .dataframe tbody tr th {\n",
              "        vertical-align: top;\n",
              "    }\n",
              "\n",
              "    .dataframe thead th {\n",
              "        text-align: right;\n",
              "    }\n",
              "</style>\n",
              "<table border=\"1\" class=\"dataframe\">\n",
              "  <thead>\n",
              "    <tr style=\"text-align: right;\">\n",
              "      <th></th>\n",
              "      <th>Name</th>\n",
              "      <th>Location</th>\n",
              "      <th>Tagline</th>\n",
              "      <th>Category</th>\n",
              "      <th>Website</th>\n",
              "      <th>Founded</th>\n",
              "      <th>Description</th>\n",
              "      <th>City</th>\n",
              "    </tr>\n",
              "  </thead>\n",
              "  <tbody>\n",
              "    <tr>\n",
              "      <th>0</th>\n",
              "      <td>Outnet</td>\n",
              "      <td>Karachi  Pakistan</td>\n",
              "      <td>Cloud based SaaS platform for planning  procur...</td>\n",
              "      <td>Advertising  OOH  Outdoor Advertising  Data an...</td>\n",
              "      <td>http://www.outnet.com.pk</td>\n",
              "      <td>1st September  2014</td>\n",
              "      <td>24Grey is a T4M (technology for marketing) com...</td>\n",
              "      <td>Karachi</td>\n",
              "    </tr>\n",
              "    <tr>\n",
              "      <th>1</th>\n",
              "      <td>7Vals</td>\n",
              "      <td>Lahore  Pakistan</td>\n",
              "      <td>Understanding and enabling businesses to impro...</td>\n",
              "      <td>Consulting  Rails  Product Development  UI</td>\n",
              "      <td>http://www.7vals.com</td>\n",
              "      <td>2011</td>\n",
              "      <td>We're changing the way businesses work by maki...</td>\n",
              "      <td>Lahore</td>\n",
              "    </tr>\n",
              "    <tr>\n",
              "      <th>2</th>\n",
              "      <td>92Solution</td>\n",
              "      <td>Lahore  Pakistan</td>\n",
              "      <td>92 Solution  A Pakistani Company Giving his Pa...</td>\n",
              "      <td>Consulting  Website &amp; Software Development</td>\n",
              "      <td>http://92solution.com</td>\n",
              "      <td>7th January  2015</td>\n",
              "      <td>92 Solution is a Software &amp; Website Developmen...</td>\n",
              "      <td>Lahore</td>\n",
              "    </tr>\n",
              "    <tr>\n",
              "      <th>3</th>\n",
              "      <td>A2Z Yellow Pages &amp; Info Services</td>\n",
              "      <td>Lahore</td>\n",
              "      <td>Find local Businesses and Services in Pakistan...</td>\n",
              "      <td>Online Business Directory &amp; Portal</td>\n",
              "      <td>https://www.yp-pak.com</td>\n",
              "      <td>30th January  2017</td>\n",
              "      <td>A2Z| Yellow Pages Pakistan will be the innovat...</td>\n",
              "      <td>Lahore</td>\n",
              "    </tr>\n",
              "    <tr>\n",
              "      <th>4</th>\n",
              "      <td>AALogics</td>\n",
              "      <td>Karachi  Pakistan</td>\n",
              "      <td>&lt;NA&gt;</td>\n",
              "      <td>Consulting  Software</td>\n",
              "      <td>http://www.aalogics.com</td>\n",
              "      <td>1st August  2014</td>\n",
              "      <td>IT Consulting  Web development &amp; Designing  Lo...</td>\n",
              "      <td>Karachi</td>\n",
              "    </tr>\n",
              "  </tbody>\n",
              "</table>\n",
              "</div>\n",
              "      <button class=\"colab-df-convert\" onclick=\"convertToInteractive('df-370c08f4-6ac8-4bd9-83d6-5f860db85b9a')\"\n",
              "              title=\"Convert this dataframe to an interactive table.\"\n",
              "              style=\"display:none;\">\n",
              "        \n",
              "  <svg xmlns=\"http://www.w3.org/2000/svg\" height=\"24px\"viewBox=\"0 0 24 24\"\n",
              "       width=\"24px\">\n",
              "    <path d=\"M0 0h24v24H0V0z\" fill=\"none\"/>\n",
              "    <path d=\"M18.56 5.44l.94 2.06.94-2.06 2.06-.94-2.06-.94-.94-2.06-.94 2.06-2.06.94zm-11 1L8.5 8.5l.94-2.06 2.06-.94-2.06-.94L8.5 2.5l-.94 2.06-2.06.94zm10 10l.94 2.06.94-2.06 2.06-.94-2.06-.94-.94-2.06-.94 2.06-2.06.94z\"/><path d=\"M17.41 7.96l-1.37-1.37c-.4-.4-.92-.59-1.43-.59-.52 0-1.04.2-1.43.59L10.3 9.45l-7.72 7.72c-.78.78-.78 2.05 0 2.83L4 21.41c.39.39.9.59 1.41.59.51 0 1.02-.2 1.41-.59l7.78-7.78 2.81-2.81c.8-.78.8-2.07 0-2.86zM5.41 20L4 18.59l7.72-7.72 1.47 1.35L5.41 20z\"/>\n",
              "  </svg>\n",
              "      </button>\n",
              "      \n",
              "  <style>\n",
              "    .colab-df-container {\n",
              "      display:flex;\n",
              "      flex-wrap:wrap;\n",
              "      gap: 12px;\n",
              "    }\n",
              "\n",
              "    .colab-df-convert {\n",
              "      background-color: #E8F0FE;\n",
              "      border: none;\n",
              "      border-radius: 50%;\n",
              "      cursor: pointer;\n",
              "      display: none;\n",
              "      fill: #1967D2;\n",
              "      height: 32px;\n",
              "      padding: 0 0 0 0;\n",
              "      width: 32px;\n",
              "    }\n",
              "\n",
              "    .colab-df-convert:hover {\n",
              "      background-color: #E2EBFA;\n",
              "      box-shadow: 0px 1px 2px rgba(60, 64, 67, 0.3), 0px 1px 3px 1px rgba(60, 64, 67, 0.15);\n",
              "      fill: #174EA6;\n",
              "    }\n",
              "\n",
              "    [theme=dark] .colab-df-convert {\n",
              "      background-color: #3B4455;\n",
              "      fill: #D2E3FC;\n",
              "    }\n",
              "\n",
              "    [theme=dark] .colab-df-convert:hover {\n",
              "      background-color: #434B5C;\n",
              "      box-shadow: 0px 1px 3px 1px rgba(0, 0, 0, 0.15);\n",
              "      filter: drop-shadow(0px 1px 2px rgba(0, 0, 0, 0.3));\n",
              "      fill: #FFFFFF;\n",
              "    }\n",
              "  </style>\n",
              "\n",
              "      <script>\n",
              "        const buttonEl =\n",
              "          document.querySelector('#df-370c08f4-6ac8-4bd9-83d6-5f860db85b9a button.colab-df-convert');\n",
              "        buttonEl.style.display =\n",
              "          google.colab.kernel.accessAllowed ? 'block' : 'none';\n",
              "\n",
              "        async function convertToInteractive(key) {\n",
              "          const element = document.querySelector('#df-370c08f4-6ac8-4bd9-83d6-5f860db85b9a');\n",
              "          const dataTable =\n",
              "            await google.colab.kernel.invokeFunction('convertToInteractive',\n",
              "                                                     [key], {});\n",
              "          if (!dataTable) return;\n",
              "\n",
              "          const docLinkHtml = 'Like what you see? Visit the ' +\n",
              "            '<a target=\"_blank\" href=https://colab.research.google.com/notebooks/data_table.ipynb>data table notebook</a>'\n",
              "            + ' to learn more about interactive tables.';\n",
              "          element.innerHTML = '';\n",
              "          dataTable['output_type'] = 'display_data';\n",
              "          await google.colab.output.renderOutput(dataTable, element);\n",
              "          const docLink = document.createElement('div');\n",
              "          docLink.innerHTML = docLinkHtml;\n",
              "          element.appendChild(docLink);\n",
              "        }\n",
              "      </script>\n",
              "    </div>\n",
              "  </div>\n",
              "  "
            ]
          },
          "metadata": {},
          "execution_count": 121
        }
      ]
    },
    {
      "cell_type": "markdown",
      "source": [
        "# Founded Years"
      ],
      "metadata": {
        "id": "T8dysRY_izKI"
      }
    },
    {
      "cell_type": "code",
      "source": [
        "pak[['Founded','Month','Year']]=pak.Founded.str.split(\" \",n=2,expand=True)\n"
      ],
      "metadata": {
        "colab": {
          "base_uri": "https://localhost:8080/"
        },
        "id": "Tz0hFD9ui6Lg",
        "outputId": "e104a3f5-ef6d-47f6-e934-537d12d1a0f7"
      },
      "execution_count": 154,
      "outputs": [
        {
          "output_type": "stream",
          "name": "stderr",
          "text": [
            "/usr/local/lib/python3.7/dist-packages/pandas/core/frame.py:3641: SettingWithCopyWarning: \n",
            "A value is trying to be set on a copy of a slice from a DataFrame.\n",
            "Try using .loc[row_indexer,col_indexer] = value instead\n",
            "\n",
            "See the caveats in the documentation: https://pandas.pydata.org/pandas-docs/stable/user_guide/indexing.html#returning-a-view-versus-a-copy\n",
            "  self[k1] = value[k2]\n"
          ]
        }
      ]
    },
    {
      "cell_type": "code",
      "source": [
        "pak.drop(['Founded','Month'],axis=1,inplace=True)\n",
        "\n"
      ],
      "metadata": {
        "colab": {
          "base_uri": "https://localhost:8080/"
        },
        "id": "hO5n_6jokpYO",
        "outputId": "a09b7290-9766-4534-bd22-ace73cca1052"
      },
      "execution_count": 155,
      "outputs": [
        {
          "output_type": "stream",
          "name": "stderr",
          "text": [
            "/usr/local/lib/python3.7/dist-packages/pandas/core/frame.py:4913: SettingWithCopyWarning: \n",
            "A value is trying to be set on a copy of a slice from a DataFrame\n",
            "\n",
            "See the caveats in the documentation: https://pandas.pydata.org/pandas-docs/stable/user_guide/indexing.html#returning-a-view-versus-a-copy\n",
            "  errors=errors,\n"
          ]
        }
      ]
    },
    {
      "cell_type": "code",
      "source": [
        "pak['Year']=pd.to_numeric(pak['Year'],errors='coerce')\n",
        "\n"
      ],
      "metadata": {
        "colab": {
          "base_uri": "https://localhost:8080/"
        },
        "id": "ezcPHDm_rqQZ",
        "outputId": "5dbc289a-9f20-4add-a9d2-d2431582b7cc"
      },
      "execution_count": 161,
      "outputs": [
        {
          "output_type": "stream",
          "name": "stderr",
          "text": [
            "/usr/local/lib/python3.7/dist-packages/ipykernel_launcher.py:1: SettingWithCopyWarning: \n",
            "A value is trying to be set on a copy of a slice from a DataFrame.\n",
            "Try using .loc[row_indexer,col_indexer] = value instead\n",
            "\n",
            "See the caveats in the documentation: https://pandas.pydata.org/pandas-docs/stable/user_guide/indexing.html#returning-a-view-versus-a-copy\n",
            "  \"\"\"Entry point for launching an IPython kernel.\n"
          ]
        }
      ]
    },
    {
      "cell_type": "code",
      "source": [
        "year_founded=pak[(pak['Year']>1999)]\n",
        "plt.subplots(figsize=(18,10))\n",
        "year_founded.Year.value_counts().plot(kind='bar',color='green')\n",
        "plt.xlabel('Year')\n",
        "plt.ylabel('# Of Startup')\n",
        "plt.title('Pakistan Startups',fontsize=18)"
      ],
      "metadata": {
        "colab": {
          "base_uri": "https://localhost:8080/",
          "height": 667
        },
        "id": "fmu9-txoqpU5",
        "outputId": "a14e8d85-43be-41ee-b448-7e7dfa956d49"
      },
      "execution_count": 162,
      "outputs": [
        {
          "output_type": "execute_result",
          "data": {
            "text/plain": [
              "Text(0.5, 1.0, 'Pakistan Startups')"
            ]
          },
          "metadata": {},
          "execution_count": 162
        },
        {
          "output_type": "display_data",
          "data": {
            "text/plain": [
              "<Figure size 1296x720 with 1 Axes>"
            ],
            "image/png": "[encoded data removed]"
          },
          "metadata": {
            "needs_background": "light"
          }
        }
      ]
    }
  ]
}